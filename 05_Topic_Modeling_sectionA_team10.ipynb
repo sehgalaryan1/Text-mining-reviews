{
 "cells": [
  {
   "cell_type": "markdown",
   "id": "175ab7a2-4bd3-4502-9a9b-4823615f62da",
   "metadata": {
    "tags": []
   },
   "source": [
    "## Processing data"
   ]
  },
  {
   "cell_type": "code",
   "execution_count": 1,
   "id": "67bd1b3d-90c8-48f0-86dd-12ee4dea77af",
   "metadata": {
    "tags": []
   },
   "outputs": [],
   "source": [
    "import pandas as pd\n",
    "cafe_reviews = pd.read_parquet(\"cafe_reviews.parquet\")"
   ]
  },
  {
   "cell_type": "code",
   "execution_count": 2,
   "id": "fa8cec14-b19b-49aa-ab9c-20e1c6dc959c",
   "metadata": {
    "tags": []
   },
   "outputs": [
    {
     "name": "stderr",
     "output_type": "stream",
     "text": [
      "[nltk_data] Downloading package stopwords to\n",
      "[nltk_data]     /home/jupyter/nltk_data...\n",
      "[nltk_data]   Package stopwords is already up-to-date!\n",
      "[nltk_data] Downloading package punkt to /home/jupyter/nltk_data...\n",
      "[nltk_data]   Package punkt is already up-to-date!\n",
      "[nltk_data] Downloading package punkt_tab to\n",
      "[nltk_data]     /home/jupyter/nltk_data...\n",
      "[nltk_data]   Package punkt_tab is already up-to-date!\n",
      "[nltk_data] Downloading package words to /home/jupyter/nltk_data...\n",
      "[nltk_data]   Package words is already up-to-date!\n"
     ]
    }
   ],
   "source": [
    "import nltk\n",
    "from nltk.corpus import stopwords\n",
    "from nltk.tokenize import word_tokenize\n",
    "from nltk.tokenize.casual import TweetTokenizer\n",
    "import string\n",
    "from sklearn.feature_extraction.text import CountVectorizer\n",
    "from nltk.tokenize import word_tokenize, sent_tokenize, WhitespaceTokenizer, RegexpTokenizer\n",
    "from nltk.corpus import words\n",
    "from nltk.tokenize import SyllableTokenizer\n",
    "\n",
    "# download package\n",
    "nltk.download('stopwords')\n",
    "nltk.download('punkt')\n",
    "nltk.download('punkt_tab')\n",
    "nltk.download('words')\n",
    "\n",
    "# upload stopwords and string\n",
    "punctuations = set(string.punctuation)\n",
    "english_words = set(words.words())"
   ]
  },
  {
   "cell_type": "code",
   "execution_count": 3,
   "id": "83ba59c6-279f-44f9-bc64-43d5501061fc",
   "metadata": {
    "tags": []
   },
   "outputs": [
    {
     "data": {
      "text/plain": [
       "11         Locals recommended Milktooth, and it's an amaz...\n",
       "19         My absolute favorite cafe in the city. Their b...\n",
       "43         Stopped by after a Sunday morning walk in the ...\n",
       "127        Milktooth is the place to go if you want a goo...\n",
       "243        So much to like about this place--the beautifu...\n",
       "                                 ...                        \n",
       "6989334    The Black Cat Cafe is a nice little restaurant...\n",
       "6989383    Cherry Espresso Bar is located inside a buildi...\n",
       "6989397    Since I'm now working from home, I'm trying to...\n",
       "6989508    I am surprised by the recent negative reviews....\n",
       "6989525    Fiddlehead Fern Cafe keeps getting better and ...\n",
       "Name: text, Length: 111685, dtype: object"
      ]
     },
     "execution_count": 3,
     "metadata": {},
     "output_type": "execute_result"
    }
   ],
   "source": [
    "cafe_reviews['text']"
   ]
  },
  {
   "cell_type": "code",
   "execution_count": 4,
   "id": "7915a358-0ef7-4142-b334-5d5e448ff0cf",
   "metadata": {
    "tags": []
   },
   "outputs": [
    {
     "data": {
      "text/html": [
       "<div>\n",
       "<style scoped>\n",
       "    .dataframe tbody tr th:only-of-type {\n",
       "        vertical-align: middle;\n",
       "    }\n",
       "\n",
       "    .dataframe tbody tr th {\n",
       "        vertical-align: top;\n",
       "    }\n",
       "\n",
       "    .dataframe thead th {\n",
       "        text-align: right;\n",
       "    }\n",
       "</style>\n",
       "<table border=\"1\" class=\"dataframe\">\n",
       "  <thead>\n",
       "    <tr style=\"text-align: right;\">\n",
       "      <th></th>\n",
       "      <th>text</th>\n",
       "    </tr>\n",
       "  </thead>\n",
       "  <tbody>\n",
       "    <tr>\n",
       "      <th>11</th>\n",
       "      <td>locals recommended milktooth, and it's an amaz...</td>\n",
       "    </tr>\n",
       "    <tr>\n",
       "      <th>19</th>\n",
       "      <td>my absolute favorite cafe in the city. their b...</td>\n",
       "    </tr>\n",
       "    <tr>\n",
       "      <th>43</th>\n",
       "      <td>stopped by after a sunday morning walk in the ...</td>\n",
       "    </tr>\n",
       "    <tr>\n",
       "      <th>127</th>\n",
       "      <td>milktooth is the place to go if you want a goo...</td>\n",
       "    </tr>\n",
       "    <tr>\n",
       "      <th>243</th>\n",
       "      <td>so much to like about this place--the beautifu...</td>\n",
       "    </tr>\n",
       "    <tr>\n",
       "      <th>...</th>\n",
       "      <td>...</td>\n",
       "    </tr>\n",
       "    <tr>\n",
       "      <th>6989334</th>\n",
       "      <td>the black cat cafe is a nice little restaurant...</td>\n",
       "    </tr>\n",
       "    <tr>\n",
       "      <th>6989383</th>\n",
       "      <td>cherry espresso bar is located inside a buildi...</td>\n",
       "    </tr>\n",
       "    <tr>\n",
       "      <th>6989397</th>\n",
       "      <td>since i'm now working from home, i'm trying to...</td>\n",
       "    </tr>\n",
       "    <tr>\n",
       "      <th>6989508</th>\n",
       "      <td>i am surprised by the recent negative reviews....</td>\n",
       "    </tr>\n",
       "    <tr>\n",
       "      <th>6989525</th>\n",
       "      <td>fiddlehead fern cafe keeps getting better and ...</td>\n",
       "    </tr>\n",
       "  </tbody>\n",
       "</table>\n",
       "<p>111685 rows × 1 columns</p>\n",
       "</div>"
      ],
      "text/plain": [
       "                                                      text\n",
       "11       locals recommended milktooth, and it's an amaz...\n",
       "19       my absolute favorite cafe in the city. their b...\n",
       "43       stopped by after a sunday morning walk in the ...\n",
       "127      milktooth is the place to go if you want a goo...\n",
       "243      so much to like about this place--the beautifu...\n",
       "...                                                    ...\n",
       "6989334  the black cat cafe is a nice little restaurant...\n",
       "6989383  cherry espresso bar is located inside a buildi...\n",
       "6989397  since i'm now working from home, i'm trying to...\n",
       "6989508  i am surprised by the recent negative reviews....\n",
       "6989525  fiddlehead fern cafe keeps getting better and ...\n",
       "\n",
       "[111685 rows x 1 columns]"
      ]
     },
     "execution_count": 4,
     "metadata": {},
     "output_type": "execute_result"
    }
   ],
   "source": [
    "cr_text = pd.DataFrame(cafe_reviews.text.str.lower())\n",
    "cr_text"
   ]
  },
  {
   "cell_type": "markdown",
   "id": "e583037b-539c-43f5-bbab-4bf916d73eee",
   "metadata": {
    "tags": []
   },
   "source": [
    "### clean the text"
   ]
  },
  {
   "cell_type": "code",
   "execution_count": 5,
   "id": "099d4df4-c87e-405f-8567-ebd81d72d35a",
   "metadata": {
    "tags": []
   },
   "outputs": [
    {
     "data": {
      "text/plain": [
       "['locals',\n",
       " 'recommended',\n",
       " 'milktooth',\n",
       " ',',\n",
       " 'and',\n",
       " \"it's\",\n",
       " 'an',\n",
       " 'amazing',\n",
       " 'jewel',\n",
       " 'of',\n",
       " 'indianapolis',\n",
       " '.',\n",
       " \"i'm\",\n",
       " 'glade',\n",
       " 'i',\n",
       " 'had',\n",
       " 'the',\n",
       " 'chance',\n",
       " 'to',\n",
       " 'experience',\n",
       " 'this',\n",
       " '.']"
      ]
     },
     "execution_count": 5,
     "metadata": {},
     "output_type": "execute_result"
    }
   ],
   "source": [
    "casual_tknzr = TweetTokenizer(reduce_len=True)\n",
    "cafe_tokenized = [casual_tknzr.tokenize(t) for t in cr_text['text']] \n",
    "cafe_tokenized[0]"
   ]
  },
  {
   "cell_type": "code",
   "execution_count": 6,
   "id": "ccde6090-e44c-4ff3-9c0a-3c06c40f5d8e",
   "metadata": {
    "tags": []
   },
   "outputs": [
    {
     "name": "stdout",
     "output_type": "stream",
     "text": [
      "['absolute', 'favorite', 'city', 'black', 'white', 'probably', 'best', 'ever', 'sweet', 'right', 'amount', 'foam', 'always', 'really', 'good', 'even', 'people', 'lot', 'space', 'work', 'noise', 'level', 'perfect', 'music', 'perfect', 'level', 'always', 'enjoy', 'bring', 'dogs']\n"
     ]
    }
   ],
   "source": [
    "english_words = set(words.words())\n",
    "stop_words = set(stopwords.words('english'))\n",
    "#punctuations = set(string.punctuation) Interested in removing these to see if it helps. if not, paste -> into list comprehension. ||| and word not in punctuations\n",
    "cafe_txt_filtered = [[word for word in sentence if word.lower() not in stop_words and word.lower() in english_words] for sentence in cafe_tokenized]\n",
    "cafe_txt_trunc = [sentence[:30] for sentence in cafe_txt_filtered]  # shortening reviews to 30 tokens. Hopes to fix computation\n",
    "print(cafe_txt_trunc[1])"
   ]
  },
  {
   "cell_type": "code",
   "execution_count": 7,
   "id": "b6fc184a-2317-4de3-8f5e-f106464746fa",
   "metadata": {
    "tags": []
   },
   "outputs": [],
   "source": [
    "cr_text[\"clean_text\"] = [\" \".join(sentence) for sentence in cafe_txt_trunc]\n",
    "cv = CountVectorizer()\n",
    "t = cv.fit_transform(cr_text[\"clean_text\"])"
   ]
  },
  {
   "cell_type": "code",
   "execution_count": 8,
   "id": "dc707a98-63d0-4f2e-852b-88dde5876d97",
   "metadata": {
    "tags": []
   },
   "outputs": [],
   "source": [
    "freq_array = t.sum(axis=0).A1\n",
    "cafe_token_freq = pd.DataFrame({\"token\": cv.get_feature_names_out(), 'freq_count': freq_array})"
   ]
  },
  {
   "cell_type": "code",
   "execution_count": 9,
   "id": "ba4462c0-204c-4e1d-9392-1329e7fe3fb4",
   "metadata": {
    "tags": []
   },
   "outputs": [
    {
     "data": {
      "text/html": [
       "<div>\n",
       "<style scoped>\n",
       "    .dataframe tbody tr th:only-of-type {\n",
       "        vertical-align: middle;\n",
       "    }\n",
       "\n",
       "    .dataframe tbody tr th {\n",
       "        vertical-align: top;\n",
       "    }\n",
       "\n",
       "    .dataframe thead th {\n",
       "        text-align: right;\n",
       "    }\n",
       "</style>\n",
       "<table border=\"1\" class=\"dataframe\">\n",
       "  <thead>\n",
       "    <tr style=\"text-align: right;\">\n",
       "      <th></th>\n",
       "      <th>token</th>\n",
       "      <th>freq_count</th>\n",
       "    </tr>\n",
       "  </thead>\n",
       "  <tbody>\n",
       "    <tr>\n",
       "      <th>2630</th>\n",
       "      <td>coffee</td>\n",
       "      <td>56345</td>\n",
       "    </tr>\n",
       "    <tr>\n",
       "      <th>10460</th>\n",
       "      <td>place</td>\n",
       "      <td>48129</td>\n",
       "    </tr>\n",
       "    <tr>\n",
       "      <th>6282</th>\n",
       "      <td>great</td>\n",
       "      <td>39914</td>\n",
       "    </tr>\n",
       "    <tr>\n",
       "      <th>5614</th>\n",
       "      <td>food</td>\n",
       "      <td>37324</td>\n",
       "    </tr>\n",
       "    <tr>\n",
       "      <th>6165</th>\n",
       "      <td>good</td>\n",
       "      <td>35694</td>\n",
       "    </tr>\n",
       "    <tr>\n",
       "      <th>...</th>\n",
       "      <td>...</td>\n",
       "      <td>...</td>\n",
       "    </tr>\n",
       "    <tr>\n",
       "      <th>12078</th>\n",
       "      <td>ruff</td>\n",
       "      <td>1</td>\n",
       "    </tr>\n",
       "    <tr>\n",
       "      <th>2135</th>\n",
       "      <td>caterpillar</td>\n",
       "      <td>1</td>\n",
       "    </tr>\n",
       "    <tr>\n",
       "      <th>6287</th>\n",
       "      <td>greediness</td>\n",
       "      <td>1</td>\n",
       "    </tr>\n",
       "    <tr>\n",
       "      <th>6290</th>\n",
       "      <td>greener</td>\n",
       "      <td>1</td>\n",
       "    </tr>\n",
       "    <tr>\n",
       "      <th>2863</th>\n",
       "      <td>concisely</td>\n",
       "      <td>1</td>\n",
       "    </tr>\n",
       "  </tbody>\n",
       "</table>\n",
       "<p>16470 rows × 2 columns</p>\n",
       "</div>"
      ],
      "text/plain": [
       "             token  freq_count\n",
       "2630        coffee       56345\n",
       "10460        place       48129\n",
       "6282         great       39914\n",
       "5614          food       37324\n",
       "6165          good       35694\n",
       "...            ...         ...\n",
       "12078         ruff           1\n",
       "2135   caterpillar           1\n",
       "6287    greediness           1\n",
       "6290       greener           1\n",
       "2863     concisely           1\n",
       "\n",
       "[16470 rows x 2 columns]"
      ]
     },
     "execution_count": 9,
     "metadata": {},
     "output_type": "execute_result"
    }
   ],
   "source": [
    "cafe_token_freq.sort_values(by='freq_count', ascending=False)"
   ]
  },
  {
   "cell_type": "markdown",
   "id": "a519244d-81ab-4e41-a138-602eab7a8a28",
   "metadata": {
    "tags": []
   },
   "source": [
    "### vectorize"
   ]
  },
  {
   "cell_type": "code",
   "execution_count": 10,
   "id": "ddb59ad0-2212-48cb-b1bd-ba47005a39e5",
   "metadata": {
    "tags": []
   },
   "outputs": [],
   "source": [
    "import scipy.sparse\n",
    "from sklearn.feature_extraction.text import TfidfVectorizer\n",
    "\n",
    "# Save TF-IDF as a sparse matrix (NO `.toarray()`)\n",
    "tfidf_model = TfidfVectorizer()\n",
    "df_tfidf_transformed = tfidf_model.fit_transform(cr_text[\"clean_text\"])"
   ]
  },
  {
   "cell_type": "code",
   "execution_count": 11,
   "id": "2ea5dfac-f101-49b4-848d-4e1c810601fe",
   "metadata": {
    "tags": []
   },
   "outputs": [
    {
     "data": {
      "text/html": [
       "<div>\n",
       "<style scoped>\n",
       "    .dataframe tbody tr th:only-of-type {\n",
       "        vertical-align: middle;\n",
       "    }\n",
       "\n",
       "    .dataframe tbody tr th {\n",
       "        vertical-align: top;\n",
       "    }\n",
       "\n",
       "    .dataframe thead th {\n",
       "        text-align: right;\n",
       "    }\n",
       "</style>\n",
       "<table border=\"1\" class=\"dataframe\">\n",
       "  <thead>\n",
       "    <tr style=\"text-align: right;\">\n",
       "      <th></th>\n",
       "      <th>aa</th>\n",
       "      <th>aback</th>\n",
       "      <th>abandon</th>\n",
       "      <th>abandoned</th>\n",
       "      <th>abatement</th>\n",
       "      <th>abbey</th>\n",
       "      <th>abdomen</th>\n",
       "      <th>aberration</th>\n",
       "      <th>abhor</th>\n",
       "      <th>abhorrent</th>\n",
       "      <th>...</th>\n",
       "      <th>zippy</th>\n",
       "      <th>zodiac</th>\n",
       "      <th>zombie</th>\n",
       "      <th>zone</th>\n",
       "      <th>zoned</th>\n",
       "      <th>zoning</th>\n",
       "      <th>zoo</th>\n",
       "      <th>zoom</th>\n",
       "      <th>zowie</th>\n",
       "      <th>zucchini</th>\n",
       "    </tr>\n",
       "  </thead>\n",
       "  <tbody>\n",
       "    <tr>\n",
       "      <th>0</th>\n",
       "      <td>0</td>\n",
       "      <td>0</td>\n",
       "      <td>0</td>\n",
       "      <td>0</td>\n",
       "      <td>0</td>\n",
       "      <td>0</td>\n",
       "      <td>0</td>\n",
       "      <td>0</td>\n",
       "      <td>0</td>\n",
       "      <td>0</td>\n",
       "      <td>...</td>\n",
       "      <td>0</td>\n",
       "      <td>0</td>\n",
       "      <td>0</td>\n",
       "      <td>0</td>\n",
       "      <td>0</td>\n",
       "      <td>0</td>\n",
       "      <td>0</td>\n",
       "      <td>0</td>\n",
       "      <td>0</td>\n",
       "      <td>0</td>\n",
       "    </tr>\n",
       "    <tr>\n",
       "      <th>1</th>\n",
       "      <td>0</td>\n",
       "      <td>0</td>\n",
       "      <td>0</td>\n",
       "      <td>0</td>\n",
       "      <td>0</td>\n",
       "      <td>0</td>\n",
       "      <td>0</td>\n",
       "      <td>0</td>\n",
       "      <td>0</td>\n",
       "      <td>0</td>\n",
       "      <td>...</td>\n",
       "      <td>0</td>\n",
       "      <td>0</td>\n",
       "      <td>0</td>\n",
       "      <td>0</td>\n",
       "      <td>0</td>\n",
       "      <td>0</td>\n",
       "      <td>0</td>\n",
       "      <td>0</td>\n",
       "      <td>0</td>\n",
       "      <td>0</td>\n",
       "    </tr>\n",
       "    <tr>\n",
       "      <th>2</th>\n",
       "      <td>0</td>\n",
       "      <td>0</td>\n",
       "      <td>0</td>\n",
       "      <td>0</td>\n",
       "      <td>0</td>\n",
       "      <td>0</td>\n",
       "      <td>0</td>\n",
       "      <td>0</td>\n",
       "      <td>0</td>\n",
       "      <td>0</td>\n",
       "      <td>...</td>\n",
       "      <td>0</td>\n",
       "      <td>0</td>\n",
       "      <td>0</td>\n",
       "      <td>0</td>\n",
       "      <td>0</td>\n",
       "      <td>0</td>\n",
       "      <td>0</td>\n",
       "      <td>0</td>\n",
       "      <td>0</td>\n",
       "      <td>0</td>\n",
       "    </tr>\n",
       "    <tr>\n",
       "      <th>3</th>\n",
       "      <td>0</td>\n",
       "      <td>0</td>\n",
       "      <td>0</td>\n",
       "      <td>0</td>\n",
       "      <td>0</td>\n",
       "      <td>0</td>\n",
       "      <td>0</td>\n",
       "      <td>0</td>\n",
       "      <td>0</td>\n",
       "      <td>0</td>\n",
       "      <td>...</td>\n",
       "      <td>0</td>\n",
       "      <td>0</td>\n",
       "      <td>0</td>\n",
       "      <td>0</td>\n",
       "      <td>0</td>\n",
       "      <td>0</td>\n",
       "      <td>0</td>\n",
       "      <td>0</td>\n",
       "      <td>0</td>\n",
       "      <td>0</td>\n",
       "    </tr>\n",
       "    <tr>\n",
       "      <th>4</th>\n",
       "      <td>0</td>\n",
       "      <td>0</td>\n",
       "      <td>0</td>\n",
       "      <td>0</td>\n",
       "      <td>0</td>\n",
       "      <td>0</td>\n",
       "      <td>0</td>\n",
       "      <td>0</td>\n",
       "      <td>0</td>\n",
       "      <td>0</td>\n",
       "      <td>...</td>\n",
       "      <td>0</td>\n",
       "      <td>0</td>\n",
       "      <td>0</td>\n",
       "      <td>0</td>\n",
       "      <td>0</td>\n",
       "      <td>0</td>\n",
       "      <td>0</td>\n",
       "      <td>0</td>\n",
       "      <td>0</td>\n",
       "      <td>0</td>\n",
       "    </tr>\n",
       "    <tr>\n",
       "      <th>...</th>\n",
       "      <td>...</td>\n",
       "      <td>...</td>\n",
       "      <td>...</td>\n",
       "      <td>...</td>\n",
       "      <td>...</td>\n",
       "      <td>...</td>\n",
       "      <td>...</td>\n",
       "      <td>...</td>\n",
       "      <td>...</td>\n",
       "      <td>...</td>\n",
       "      <td>...</td>\n",
       "      <td>...</td>\n",
       "      <td>...</td>\n",
       "      <td>...</td>\n",
       "      <td>...</td>\n",
       "      <td>...</td>\n",
       "      <td>...</td>\n",
       "      <td>...</td>\n",
       "      <td>...</td>\n",
       "      <td>...</td>\n",
       "      <td>...</td>\n",
       "    </tr>\n",
       "    <tr>\n",
       "      <th>111680</th>\n",
       "      <td>0</td>\n",
       "      <td>0</td>\n",
       "      <td>0</td>\n",
       "      <td>0</td>\n",
       "      <td>0</td>\n",
       "      <td>0</td>\n",
       "      <td>0</td>\n",
       "      <td>0</td>\n",
       "      <td>0</td>\n",
       "      <td>0</td>\n",
       "      <td>...</td>\n",
       "      <td>0</td>\n",
       "      <td>0</td>\n",
       "      <td>0</td>\n",
       "      <td>0</td>\n",
       "      <td>0</td>\n",
       "      <td>0</td>\n",
       "      <td>0</td>\n",
       "      <td>0</td>\n",
       "      <td>0</td>\n",
       "      <td>0</td>\n",
       "    </tr>\n",
       "    <tr>\n",
       "      <th>111681</th>\n",
       "      <td>0</td>\n",
       "      <td>0</td>\n",
       "      <td>0</td>\n",
       "      <td>0</td>\n",
       "      <td>0</td>\n",
       "      <td>0</td>\n",
       "      <td>0</td>\n",
       "      <td>0</td>\n",
       "      <td>0</td>\n",
       "      <td>0</td>\n",
       "      <td>...</td>\n",
       "      <td>0</td>\n",
       "      <td>0</td>\n",
       "      <td>0</td>\n",
       "      <td>0</td>\n",
       "      <td>0</td>\n",
       "      <td>0</td>\n",
       "      <td>0</td>\n",
       "      <td>0</td>\n",
       "      <td>0</td>\n",
       "      <td>0</td>\n",
       "    </tr>\n",
       "    <tr>\n",
       "      <th>111682</th>\n",
       "      <td>0</td>\n",
       "      <td>0</td>\n",
       "      <td>0</td>\n",
       "      <td>0</td>\n",
       "      <td>0</td>\n",
       "      <td>0</td>\n",
       "      <td>0</td>\n",
       "      <td>0</td>\n",
       "      <td>0</td>\n",
       "      <td>0</td>\n",
       "      <td>...</td>\n",
       "      <td>0</td>\n",
       "      <td>0</td>\n",
       "      <td>0</td>\n",
       "      <td>0</td>\n",
       "      <td>0</td>\n",
       "      <td>0</td>\n",
       "      <td>0</td>\n",
       "      <td>0</td>\n",
       "      <td>0</td>\n",
       "      <td>0</td>\n",
       "    </tr>\n",
       "    <tr>\n",
       "      <th>111683</th>\n",
       "      <td>0</td>\n",
       "      <td>0</td>\n",
       "      <td>0</td>\n",
       "      <td>0</td>\n",
       "      <td>0</td>\n",
       "      <td>0</td>\n",
       "      <td>0</td>\n",
       "      <td>0</td>\n",
       "      <td>0</td>\n",
       "      <td>0</td>\n",
       "      <td>...</td>\n",
       "      <td>0</td>\n",
       "      <td>0</td>\n",
       "      <td>0</td>\n",
       "      <td>0</td>\n",
       "      <td>0</td>\n",
       "      <td>0</td>\n",
       "      <td>0</td>\n",
       "      <td>0</td>\n",
       "      <td>0</td>\n",
       "      <td>0</td>\n",
       "    </tr>\n",
       "    <tr>\n",
       "      <th>111684</th>\n",
       "      <td>0</td>\n",
       "      <td>0</td>\n",
       "      <td>0</td>\n",
       "      <td>0</td>\n",
       "      <td>0</td>\n",
       "      <td>0</td>\n",
       "      <td>0</td>\n",
       "      <td>0</td>\n",
       "      <td>0</td>\n",
       "      <td>0</td>\n",
       "      <td>...</td>\n",
       "      <td>0</td>\n",
       "      <td>0</td>\n",
       "      <td>0</td>\n",
       "      <td>0</td>\n",
       "      <td>0</td>\n",
       "      <td>0</td>\n",
       "      <td>0</td>\n",
       "      <td>0</td>\n",
       "      <td>0</td>\n",
       "      <td>0</td>\n",
       "    </tr>\n",
       "  </tbody>\n",
       "</table>\n",
       "<p>111685 rows × 16470 columns</p>\n",
       "</div>"
      ],
      "text/plain": [
       "        aa  aback  abandon  abandoned  abatement  abbey  abdomen  aberration  \\\n",
       "0        0      0        0          0          0      0        0           0   \n",
       "1        0      0        0          0          0      0        0           0   \n",
       "2        0      0        0          0          0      0        0           0   \n",
       "3        0      0        0          0          0      0        0           0   \n",
       "4        0      0        0          0          0      0        0           0   \n",
       "...     ..    ...      ...        ...        ...    ...      ...         ...   \n",
       "111680   0      0        0          0          0      0        0           0   \n",
       "111681   0      0        0          0          0      0        0           0   \n",
       "111682   0      0        0          0          0      0        0           0   \n",
       "111683   0      0        0          0          0      0        0           0   \n",
       "111684   0      0        0          0          0      0        0           0   \n",
       "\n",
       "        abhor  abhorrent  ...  zippy  zodiac  zombie  zone  zoned  zoning  \\\n",
       "0           0          0  ...      0       0       0     0      0       0   \n",
       "1           0          0  ...      0       0       0     0      0       0   \n",
       "2           0          0  ...      0       0       0     0      0       0   \n",
       "3           0          0  ...      0       0       0     0      0       0   \n",
       "4           0          0  ...      0       0       0     0      0       0   \n",
       "...       ...        ...  ...    ...     ...     ...   ...    ...     ...   \n",
       "111680      0          0  ...      0       0       0     0      0       0   \n",
       "111681      0          0  ...      0       0       0     0      0       0   \n",
       "111682      0          0  ...      0       0       0     0      0       0   \n",
       "111683      0          0  ...      0       0       0     0      0       0   \n",
       "111684      0          0  ...      0       0       0     0      0       0   \n",
       "\n",
       "        zoo  zoom  zowie  zucchini  \n",
       "0         0     0      0         0  \n",
       "1         0     0      0         0  \n",
       "2         0     0      0         0  \n",
       "3         0     0      0         0  \n",
       "4         0     0      0         0  \n",
       "...     ...   ...    ...       ...  \n",
       "111680    0     0      0         0  \n",
       "111681    0     0      0         0  \n",
       "111682    0     0      0         0  \n",
       "111683    0     0      0         0  \n",
       "111684    0     0      0         0  \n",
       "\n",
       "[111685 rows x 16470 columns]"
      ]
     },
     "execution_count": 11,
     "metadata": {},
     "output_type": "execute_result"
    }
   ],
   "source": [
    "tfidf_vectors = pd.DataFrame.sparse.from_spmatrix(df_tfidf_transformed, columns=tfidf_model.get_feature_names_out())\n",
    "\n",
    "tfidf_vectors"
   ]
  },
  {
   "cell_type": "markdown",
   "id": "9e3cf831-02fd-4bbe-ae1a-2eddf1a319e1",
   "metadata": {},
   "source": [
    "With this, we can begin topic modeling."
   ]
  },
  {
   "cell_type": "markdown",
   "id": "b082cb68-5e77-4536-a306-cc40783899f1",
   "metadata": {
    "tags": []
   },
   "source": [
    "## Topic Modeling"
   ]
  },
  {
   "cell_type": "markdown",
   "id": "a6233d47-fc4c-4af6-a1f1-9388f1465450",
   "metadata": {
    "tags": []
   },
   "source": [
    "### LDA method"
   ]
  },
  {
   "cell_type": "code",
   "execution_count": 18,
   "id": "1f38ea4f-4183-466f-adc0-22d674d304c7",
   "metadata": {},
   "outputs": [
    {
     "data": {
      "image/png": "[encoded data removed]",
      "text/plain": [
       "<Figure size 640x480 with 1 Axes>"
      ]
     },
     "metadata": {},
     "output_type": "display_data"
    }
   ],
   "source": [
    "import numpy as np\n",
    "import matplotlib.pyplot as plt\n",
    "from sklearn.decomposition import LatentDirichletAllocation\n",
    "\n",
    "perplexities = [] #lower perplexity = better\n",
    "topic_range = range(2,6)\n",
    "\n",
    "for num_topics in topic_range:\n",
    "    lda = LatentDirichletAllocation(n_components=num_topics, random_state=42)\n",
    "    lda.fit(df_tfidf_transformed)\n",
    "    perplexities.append(lda.perplexity(df_tfidf_transformed))\n",
    "\n",
    "import matplotlib.pyplot as plt\n",
    "\n",
    "plt.plot(topic_range, perplexities, marker='o')\n",
    "plt.xlabel(\"Number of Topics\")\n",
    "plt.ylabel(\"Perplexity\")\n",
    "plt.title(\"Perplexity vs. Number of Topics\")\n",
    "plt.show()"
   ]
  },
  {
   "cell_type": "markdown",
   "id": "bc7ce489-e057-4079-9726-49ce19122bad",
   "metadata": {},
   "source": [
    "Since the perplexity graph line is increasing as the number of topics grow, it appears that adding more topics is making the model less effective. So, the best choice would be 2 topics because it has the lowest perplexity."
   ]
  },
  {
   "cell_type": "code",
   "execution_count": 19,
   "id": "1730d33c-2e91-4cdb-a8e8-0aea71db4326",
   "metadata": {
    "tags": []
   },
   "outputs": [],
   "source": [
    "optimal_topics = 2  # Based on the perplexity graph\n",
    "lda = LatentDirichletAllocation(n_components=optimal_topics, random_state=42)\n",
    "lda_topics = lda.fit_transform(df_tfidf_transformed)"
   ]
  },
  {
   "cell_type": "code",
   "execution_count": 20,
   "id": "6d22d585-c3c2-4e00-907e-f011475aa91f",
   "metadata": {},
   "outputs": [
    {
     "name": "stdout",
     "output_type": "stream",
     "text": [
      "Top words for each topic:\n",
      "Topic 1: coffee, location, service, get, always, drink, order, staff, friendly, time\n",
      "Topic 2: cake, product, side, reserve, frappe, display, worker, price, patio, refill\n"
     ]
    }
   ],
   "source": [
    "# to show top words per topic\n",
    "def display_topics(model, feature_names, num_top_words=10):\n",
    "    for topic_idx, topic in enumerate(model.components_):\n",
    "        top_words = [feature_names[i] for i in topic.argsort()[:-num_top_words - 1:-1]]\n",
    "        print(f\"Topic {topic_idx + 1}: {', '.join(top_words)}\")\n",
    "\n",
    "print(\"Top words for each topic:\")\n",
    "display_topics(lda, tfidf_model.get_feature_names_out())"
   ]
  },
  {
   "cell_type": "markdown",
   "id": "b2bdd722-e99f-4ad9-9f7c-f95a90b10323",
   "metadata": {},
   "source": [
    "it looks like topic one has to do with customer experience and service quality and topic two looks like it's more about the food and ambience (vibes!)."
   ]
  },
  {
   "cell_type": "code",
   "execution_count": 21,
   "id": "a2af357e-e0b6-4f8a-8ec4-2094942b9b93",
   "metadata": {
    "tags": []
   },
   "outputs": [],
   "source": [
    "# assigning topic to each of the reviews\n",
    "cr_text[\"dominant_topic\"] = lda_topics.argmax(axis=1)"
   ]
  },
  {
   "cell_type": "code",
   "execution_count": 22,
   "id": "433068ac-7517-42d3-9abc-fd03f9d086f0",
   "metadata": {
    "tags": []
   },
   "outputs": [
    {
     "data": {
      "image/png": "[encoded data removed]",
      "text/plain": [
       "<Figure size 800x500 with 1 Axes>"
      ]
     },
     "metadata": {},
     "output_type": "display_data"
    }
   ],
   "source": [
    "topic_counts = cr_text[\"dominant_topic\"].value_counts().sort_index()\n",
    "\n",
    "plt.figure(figsize=(8,5))\n",
    "plt.bar(topic_counts.index, topic_counts.values)\n",
    "plt.xlabel(\"Topic Number\")\n",
    "plt.ylabel(\"Number of Reviews\")\n",
    "plt.title(\"Topic Distribution Across Reviews\")\n",
    "plt.xticks(topic_counts.index)\n",
    "plt.show()"
   ]
  },
  {
   "cell_type": "markdown",
   "id": "956baefd-0c5a-46e8-b1b0-0425e15f4bce",
   "metadata": {},
   "source": [
    "There is an imbalance that exists amongst the number of reviews in the two topics"
   ]
  },
  {
   "cell_type": "markdown",
   "id": "abc34e4f-9d38-44d2-a6e0-db92eba496aa",
   "metadata": {},
   "source": [
    "#### Get topics for a single review function"
   ]
  },
  {
   "cell_type": "code",
   "execution_count": 23,
   "id": "9161c1d5-f6bc-4120-83fc-0ff2e8c31839",
   "metadata": {
    "tags": []
   },
   "outputs": [],
   "source": [
    "import pandas as pd\n",
    "\n",
    "def get_review_topics(review_index):\n",
    "    \"\"\"\n",
    "    Return the topic distribution for a single review.\n",
    "    review_index should match the row index in df_tfidf_transformed and cr_text.\n",
    "    \"\"\"\n",
    "\n",
    "    review_vector = df_tfidf_transformed[review_index]\n",
    "\n",
    "    topic_dist = lda.transform(review_vector)\n",
    "\n",
    "    topic_series = pd.Series(topic_dist[0], index=[f\"Topic {i}\" for i in range(topic_dist.shape[1])])\n",
    "    return topic_series"
   ]
  },
  {
   "cell_type": "markdown",
   "id": "c9b89d00-4426-4fb3-b235-a44b6f7da1db",
   "metadata": {},
   "source": [
    "#### Comparing Two Reviews by Topic Similarity"
   ]
  },
  {
   "cell_type": "code",
   "execution_count": 24,
   "id": "54c9f64b-e856-4f7e-83d2-fff044a16560",
   "metadata": {
    "tags": []
   },
   "outputs": [
    {
     "name": "stdout",
     "output_type": "stream",
     "text": [
      "Topic similarity between review 10 and review 18 = 0.9998\n"
     ]
    }
   ],
   "source": [
    "from sklearn.metrics.pairwise import cosine_similarity\n",
    "\n",
    "review1 = 10  \n",
    "review2 = 18\n",
    "\n",
    "topics1 = get_review_topics(review1).values.reshape(1, -1)\n",
    "topics2 = get_review_topics(review2).values.reshape(1, -1)\n",
    "\n",
    "# Cosine similarity in terms of topic distributions\n",
    "topics_similarity = cosine_similarity(topics1, topics2)[0, 0]\n",
    "\n",
    "print(f\"Topic similarity between review {review1} and review {review2} = {topics_similarity:.4f}\")"
   ]
  },
  {
   "cell_type": "markdown",
   "id": "bf6bf019-eb7d-4edd-8901-d96961ea8c78",
   "metadata": {
    "tags": []
   },
   "source": [
    "### Experimenting with NMF instead"
   ]
  },
  {
   "cell_type": "code",
   "execution_count": 15,
   "id": "5d0aceee-fff7-4363-b8aa-68a21d1121e4",
   "metadata": {
    "tags": []
   },
   "outputs": [
    {
     "name": "stderr",
     "output_type": "stream",
     "text": [
      "/opt/conda/lib/python3.10/site-packages/sklearn/decomposition/_nmf.py:1741: ConvergenceWarning: Maximum number of iterations 200 reached. Increase it to improve convergence.\n",
      "  warnings.warn(\n"
     ]
    },
    {
     "data": {
      "image/png": "[encoded data removed]",
      "text/plain": [
       "<Figure size 800x500 with 1 Axes>"
      ]
     },
     "metadata": {},
     "output_type": "display_data"
    }
   ],
   "source": [
    "import numpy as np\n",
    "import matplotlib.pyplot as plt\n",
    "from sklearn.decomposition import NMF\n",
    "\n",
    "topic_range = range(2, 10)  \n",
    "\n",
    "errors = []  \n",
    "\n",
    "for num_topics in topic_range:\n",
    "    nmf_model = NMF(n_components=num_topics, random_state=42)\n",
    "    nmf_model.fit(df_tfidf_transformed)\n",
    "    errors.append(nmf_model.reconstruction_err_)  # Get error for each topic number\n",
    "\n",
    "# Plot the error curve\n",
    "plt.figure(figsize=(8,5))\n",
    "plt.plot(topic_range, errors, marker='o', linestyle='--', color='blue')\n",
    "plt.xlabel(\"Number of Topics\")\n",
    "plt.ylabel(\"Reconstruction Error\")\n",
    "plt.title(\"Choosing the Optimal Number of Topics in NMF\")\n",
    "plt.show()"
   ]
  },
  {
   "cell_type": "markdown",
   "id": "192be714-a033-4412-bd09-83ea4ff3e344",
   "metadata": {},
   "source": [
    "Choosing 4 as the optimal number of topics based on this graph"
   ]
  },
  {
   "cell_type": "code",
   "execution_count": 21,
   "id": "c7da6a4d-b8b6-4f09-a58d-264863c7470c",
   "metadata": {
    "tags": []
   },
   "outputs": [],
   "source": [
    "num_topics = 4\n",
    "nmf_model = NMF(n_components=num_topics, random_state=42)\n",
    "W = nmf_model.fit_transform(df_tfidf_transformed)  # Document-topic matrix\n",
    "H = nmf_model.components_"
   ]
  },
  {
   "cell_type": "markdown",
   "id": "71fe4a89-423a-4ded-80f7-ea71f23f3f31",
   "metadata": {},
   "source": [
    "Custom function to obtain words for each topic "
   ]
  },
  {
   "cell_type": "code",
   "execution_count": 24,
   "id": "d23500e3-593a-4a28-b439-8bf35e404d80",
   "metadata": {
    "tags": []
   },
   "outputs": [
    {
     "name": "stdout",
     "output_type": "stream",
     "text": [
      "Topic 1: time, one, place, go, breakfast, got, get, ordered, wait, delicious\n",
      "Topic 2: coffee, shop, love, iced, place, work, cup, best, nice, local\n",
      "Topic 3: great, food, service, friendly, staff, place, atmosphere, amazing, love, delicious\n",
      "Topic 4: good, really, nice, food, pretty, place, service, breakfast, little, also\n"
     ]
    }
   ],
   "source": [
    "def display_nmf_topics(model, feature_names, num_words=10):\n",
    "    for topic_idx, topic in enumerate(model.components_):\n",
    "        top_words = [feature_names[i] for i in topic.argsort()[:-num_words - 1:-1]]\n",
    "        print(f\"Topic {topic_idx + 1}: {', '.join(top_words)}\")\n",
    "\n",
    "feature_names = tfidf_model.get_feature_names_out()\n",
    "\n",
    "display_nmf_topics(nmf_model, feature_names, num_words=10)"
   ]
  },
  {
   "cell_type": "markdown",
   "id": "85dc66f4-f4f5-4009-831a-c71cdae5a1bf",
   "metadata": {},
   "source": [
    "Topic 1\tis related to Ordering Experience & Wait Time\t\n",
    "Topic 2\tis related to Coffee Shops & Cafe Culture\n",
    "Topic 3\tis related to Restaurant Service & Atmosphere\n",
    "Topic 4\tis realted to General Food & Ambiance Reviews"
   ]
  },
  {
   "cell_type": "markdown",
   "id": "a5190ef2-efa9-48f0-b1dd-5d3271494ceb",
   "metadata": {},
   "source": [
    "Assign the dominant topic to each review"
   ]
  },
  {
   "cell_type": "code",
   "execution_count": 25,
   "id": "34e1281d-7a06-4c6f-81cb-ee7678bb0eb5",
   "metadata": {
    "tags": []
   },
   "outputs": [],
   "source": [
    "cr_text[\"dominant_topic\"] = W.argmax(axis=1)"
   ]
  },
  {
   "cell_type": "markdown",
   "id": "75a28324-a657-489b-b341-5b8a90814614",
   "metadata": {},
   "source": [
    "Topic distribution Plot"
   ]
  },
  {
   "cell_type": "code",
   "execution_count": 26,
   "id": "31f9c47e-d3c8-46b6-b4c9-07072134df1f",
   "metadata": {
    "tags": []
   },
   "outputs": [
    {
     "data": {
      "image/png": "[encoded data removed]",
      "text/plain": [
       "<Figure size 800x500 with 1 Axes>"
      ]
     },
     "metadata": {},
     "output_type": "display_data"
    }
   ],
   "source": [
    "topic_counts = cr_text[\"dominant_topic\"].value_counts().sort_index()\n",
    "\n",
    "import matplotlib.pyplot as plt\n",
    "\n",
    "plt.figure(figsize=(8,5))\n",
    "plt.bar(topic_counts.index, topic_counts.values, color='skyblue')\n",
    "plt.xlabel(\"Topic Number\")\n",
    "plt.ylabel(\"Number of Reviews\")\n",
    "plt.title(\"Topic Distribution Across Reviews\")\n",
    "plt.xticks(topic_counts.index)\n",
    "plt.show()"
   ]
  },
  {
   "cell_type": "markdown",
   "id": "744b0352-6ef4-4904-9d51-5e33ea69d903",
   "metadata": {},
   "source": [
    "Function to see topic distribution for a single review under NMF"
   ]
  },
  {
   "cell_type": "code",
   "execution_count": 27,
   "id": "0c9249bf-5ce5-4c77-bb40-a2e5fd51da9c",
   "metadata": {
    "tags": []
   },
   "outputs": [
    {
     "name": "stdout",
     "output_type": "stream",
     "text": [
      "Topic 0    0.018314\n",
      "Topic 1    0.000118\n",
      "Topic 2    0.008037\n",
      "Topic 3    0.002255\n",
      "dtype: float64\n"
     ]
    }
   ],
   "source": [
    "import pandas as pd\n",
    "\n",
    "def get_review_topics_nmf(review_index):\n",
    "    topic_dist = W[review_index]  \n",
    "    topic_series = pd.Series(\n",
    "        topic_dist,\n",
    "        index=[f\"Topic {i}\" for i in range(topic_dist.shape[0])]\n",
    "    )\n",
    "    return topic_series\n",
    "\n",
    "review_index = 10  \n",
    "print(get_review_topics_nmf(review_index))\n"
   ]
  },
  {
   "cell_type": "markdown",
   "id": "5a992089-9de7-49be-b225-9442fb46bc05",
   "metadata": {},
   "source": [
    "Obtain topic similarity between two reviews using cosine similarity "
   ]
  },
  {
   "cell_type": "code",
   "execution_count": 28,
   "id": "bed7a313-f16f-4278-bbf2-037e3042e273",
   "metadata": {
    "tags": []
   },
   "outputs": [
    {
     "name": "stdout",
     "output_type": "stream",
     "text": [
      "Topic similarity between review 10 and review 24 = 0.7132\n"
     ]
    }
   ],
   "source": [
    "from sklearn.metrics.pairwise import cosine_similarity\n",
    "\n",
    "review1 = 10  # Choose valid row indices from cr_text\n",
    "review2 = 24\n",
    "\n",
    "topics1 = get_review_topics_nmf(review1).values.reshape(1, -1)\n",
    "topics2 = get_review_topics_nmf(review2).values.reshape(1, -1)\n",
    "\n",
    "topics_similarity = cosine_similarity(topics1, topics2)[0, 0]\n",
    "\n",
    "print(f\"Topic similarity between review {review1} and review {review2} = {topics_similarity:.4f}\")"
   ]
  }
 ],
 "metadata": {
  "environment": {
   "kernel": "conda-base-py",
   "name": "workbench-notebooks.m127",
   "type": "gcloud",
   "uri": "us-docker.pkg.dev/deeplearning-platform-release/gcr.io/workbench-notebooks:m127"
  },
  "kernelspec": {
   "display_name": "Python 3 (ipykernel) (Local)",
   "language": "python",
   "name": "conda-base-py"
  },
  "language_info": {
   "codemirror_mode": {
    "name": "ipython",
    "version": 3
   },
   "file_extension": ".py",
   "mimetype": "text/x-python",
   "name": "python",
   "nbconvert_exporter": "python",
   "pygments_lexer": "ipython3",
   "version": "3.10.16"
  }
 },
 "nbformat": 4,
 "nbformat_minor": 5
}
