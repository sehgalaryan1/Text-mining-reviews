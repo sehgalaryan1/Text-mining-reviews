{
 "cells": [
  {
   "cell_type": "markdown",
   "id": "bcd7de82-ffb4-4a96-bf0f-8cdc6bf02aa5",
   "metadata": {
    "tags": []
   },
   "source": [
    "## Data processing"
   ]
  },
  {
   "cell_type": "code",
   "execution_count": 2,
   "id": "67bd1b3d-90c8-48f0-86dd-12ee4dea77af",
   "metadata": {
    "tags": []
   },
   "outputs": [],
   "source": [
    "import pandas as pd\n",
    "cafe_reviews = pd.read_parquet(\"cafe_reviews.parquet\")"
   ]
  },
  {
   "cell_type": "code",
   "execution_count": 3,
   "id": "fa8cec14-b19b-49aa-ab9c-20e1c6dc959c",
   "metadata": {
    "tags": []
   },
   "outputs": [
    {
     "name": "stderr",
     "output_type": "stream",
     "text": [
      "[nltk_data] Downloading package stopwords to\n",
      "[nltk_data]     /home/jupyter/nltk_data...\n",
      "[nltk_data]   Package stopwords is already up-to-date!\n",
      "[nltk_data] Downloading package punkt to /home/jupyter/nltk_data...\n",
      "[nltk_data]   Package punkt is already up-to-date!\n",
      "[nltk_data] Downloading package punkt_tab to\n",
      "[nltk_data]     /home/jupyter/nltk_data...\n",
      "[nltk_data]   Package punkt_tab is already up-to-date!\n",
      "[nltk_data] Downloading package words to /home/jupyter/nltk_data...\n",
      "[nltk_data]   Package words is already up-to-date!\n"
     ]
    }
   ],
   "source": [
    "import nltk\n",
    "from nltk.corpus import stopwords\n",
    "from nltk.tokenize import word_tokenize\n",
    "from nltk.tokenize.casual import TweetTokenizer\n",
    "import string\n",
    "from sklearn.feature_extraction.text import CountVectorizer\n",
    "from nltk.tokenize import word_tokenize, sent_tokenize, WhitespaceTokenizer, RegexpTokenizer\n",
    "from nltk.corpus import words\n",
    "from nltk.tokenize import SyllableTokenizer\n",
    "\n",
    "# download package\n",
    "nltk.download('stopwords')\n",
    "nltk.download('punkt')\n",
    "nltk.download('punkt_tab')\n",
    "nltk.download('words')\n",
    "\n",
    "# upload stopwords and string\n",
    "punctuations = set(string.punctuation)\n",
    "english_words = set(words.words())"
   ]
  },
  {
   "cell_type": "code",
   "execution_count": 4,
   "id": "6d22d585-c3c2-4e00-907e-f011475aa91f",
   "metadata": {},
   "outputs": [
    {
     "data": {
      "text/html": [
       "<div>\n",
       "<style scoped>\n",
       "    .dataframe tbody tr th:only-of-type {\n",
       "        vertical-align: middle;\n",
       "    }\n",
       "\n",
       "    .dataframe tbody tr th {\n",
       "        vertical-align: top;\n",
       "    }\n",
       "\n",
       "    .dataframe thead th {\n",
       "        text-align: right;\n",
       "    }\n",
       "</style>\n",
       "<table border=\"1\" class=\"dataframe\">\n",
       "  <thead>\n",
       "    <tr style=\"text-align: right;\">\n",
       "      <th></th>\n",
       "      <th>review_id</th>\n",
       "      <th>business_id</th>\n",
       "      <th>user_id</th>\n",
       "      <th>stars</th>\n",
       "      <th>text</th>\n",
       "      <th>date</th>\n",
       "      <th>name</th>\n",
       "      <th>review_count</th>\n",
       "      <th>yelping_since</th>\n",
       "      <th>cafe_review</th>\n",
       "    </tr>\n",
       "  </thead>\n",
       "  <tbody>\n",
       "    <tr>\n",
       "      <th>11</th>\n",
       "      <td>l3Wk_mvAog6XANIuGQ9C7Q</td>\n",
       "      <td>EQ-TZ2eeD_E0BHuvoaeG5Q</td>\n",
       "      <td>ZbqSHbgCjzVAqaa7NKWn5A</td>\n",
       "      <td>4</td>\n",
       "      <td>Locals recommended Milktooth, and it's an amaz...</td>\n",
       "      <td>2015-08-19 14:31:45</td>\n",
       "      <td>Small</td>\n",
       "      <td>18.0</td>\n",
       "      <td>2015-08-15 13:28:06</td>\n",
       "      <td>True</td>\n",
       "    </tr>\n",
       "    <tr>\n",
       "      <th>19</th>\n",
       "      <td>Xs8Z8lmKkosqW5mw_sVAoA</td>\n",
       "      <td>eFvzHawVJofxSnD7TgbZtg</td>\n",
       "      <td>IQsF3Rc6IgCzjVV9DE8KXg</td>\n",
       "      <td>5</td>\n",
       "      <td>My absolute favorite cafe in the city. Their b...</td>\n",
       "      <td>2014-11-12 15:30:27</td>\n",
       "      <td>Dana</td>\n",
       "      <td>182.0</td>\n",
       "      <td>2010-02-22 16:15:28</td>\n",
       "      <td>True</td>\n",
       "    </tr>\n",
       "    <tr>\n",
       "      <th>43</th>\n",
       "      <td>qGQvUHmC02PAZW3H1WTIfw</td>\n",
       "      <td>eaJCpC6IhYphj7bwCDHTwQ</td>\n",
       "      <td>RRTQpg8hutdimzAYuP_Hbw</td>\n",
       "      <td>5</td>\n",
       "      <td>Stopped by after a Sunday morning walk in the ...</td>\n",
       "      <td>2015-08-30 13:41:47</td>\n",
       "      <td>Daphne</td>\n",
       "      <td>11.0</td>\n",
       "      <td>2015-04-11 12:38:01</td>\n",
       "      <td>True</td>\n",
       "    </tr>\n",
       "    <tr>\n",
       "      <th>127</th>\n",
       "      <td>940tqxFO4Pwg_KMg4Y4Z5g</td>\n",
       "      <td>EQ-TZ2eeD_E0BHuvoaeG5Q</td>\n",
       "      <td>O6wkgoJqU7KMjleSlCDGaA</td>\n",
       "      <td>5</td>\n",
       "      <td>Milktooth is the place to go if you want a goo...</td>\n",
       "      <td>2018-01-10 01:48:58</td>\n",
       "      <td>Lauren</td>\n",
       "      <td>142.0</td>\n",
       "      <td>2014-07-11 02:28:10</td>\n",
       "      <td>True</td>\n",
       "    </tr>\n",
       "    <tr>\n",
       "      <th>243</th>\n",
       "      <td>uwPhE21CZLlp1kkSMPvvYw</td>\n",
       "      <td>WKMJwqnfZKsAae75RMP6jA</td>\n",
       "      <td>5OnQqP3q2_9auNdDKpLdsw</td>\n",
       "      <td>3</td>\n",
       "      <td>So much to like about this place--the beautifu...</td>\n",
       "      <td>2012-11-06 23:35:15</td>\n",
       "      <td>Toquester</td>\n",
       "      <td>24.0</td>\n",
       "      <td>2010-03-10 02:19:34</td>\n",
       "      <td>True</td>\n",
       "    </tr>\n",
       "  </tbody>\n",
       "</table>\n",
       "</div>"
      ],
      "text/plain": [
       "                  review_id             business_id                 user_id  \\\n",
       "11   l3Wk_mvAog6XANIuGQ9C7Q  EQ-TZ2eeD_E0BHuvoaeG5Q  ZbqSHbgCjzVAqaa7NKWn5A   \n",
       "19   Xs8Z8lmKkosqW5mw_sVAoA  eFvzHawVJofxSnD7TgbZtg  IQsF3Rc6IgCzjVV9DE8KXg   \n",
       "43   qGQvUHmC02PAZW3H1WTIfw  eaJCpC6IhYphj7bwCDHTwQ  RRTQpg8hutdimzAYuP_Hbw   \n",
       "127  940tqxFO4Pwg_KMg4Y4Z5g  EQ-TZ2eeD_E0BHuvoaeG5Q  O6wkgoJqU7KMjleSlCDGaA   \n",
       "243  uwPhE21CZLlp1kkSMPvvYw  WKMJwqnfZKsAae75RMP6jA  5OnQqP3q2_9auNdDKpLdsw   \n",
       "\n",
       "     stars                                               text  \\\n",
       "11       4  Locals recommended Milktooth, and it's an amaz...   \n",
       "19       5  My absolute favorite cafe in the city. Their b...   \n",
       "43       5  Stopped by after a Sunday morning walk in the ...   \n",
       "127      5  Milktooth is the place to go if you want a goo...   \n",
       "243      3  So much to like about this place--the beautifu...   \n",
       "\n",
       "                   date       name  review_count        yelping_since  \\\n",
       "11  2015-08-19 14:31:45      Small          18.0  2015-08-15 13:28:06   \n",
       "19  2014-11-12 15:30:27       Dana         182.0  2010-02-22 16:15:28   \n",
       "43  2015-08-30 13:41:47     Daphne          11.0  2015-04-11 12:38:01   \n",
       "127 2018-01-10 01:48:58     Lauren         142.0  2014-07-11 02:28:10   \n",
       "243 2012-11-06 23:35:15  Toquester          24.0  2010-03-10 02:19:34   \n",
       "\n",
       "     cafe_review  \n",
       "11          True  \n",
       "19          True  \n",
       "43          True  \n",
       "127         True  \n",
       "243         True  "
      ]
     },
     "execution_count": 4,
     "metadata": {},
     "output_type": "execute_result"
    }
   ],
   "source": [
    "cafe_reviews.head()"
   ]
  },
  {
   "cell_type": "code",
   "execution_count": 5,
   "id": "d4f2566c-290b-490c-88c4-cc60e1544030",
   "metadata": {
    "tags": []
   },
   "outputs": [
    {
     "data": {
      "text/html": [
       "<div>\n",
       "<style scoped>\n",
       "    .dataframe tbody tr th:only-of-type {\n",
       "        vertical-align: middle;\n",
       "    }\n",
       "\n",
       "    .dataframe tbody tr th {\n",
       "        vertical-align: top;\n",
       "    }\n",
       "\n",
       "    .dataframe thead th {\n",
       "        text-align: right;\n",
       "    }\n",
       "</style>\n",
       "<table border=\"1\" class=\"dataframe\">\n",
       "  <thead>\n",
       "    <tr style=\"text-align: right;\">\n",
       "      <th></th>\n",
       "      <th>stars</th>\n",
       "      <th>text</th>\n",
       "    </tr>\n",
       "  </thead>\n",
       "  <tbody>\n",
       "    <tr>\n",
       "      <th>11</th>\n",
       "      <td>4</td>\n",
       "      <td>Locals recommended Milktooth, and it's an amaz...</td>\n",
       "    </tr>\n",
       "    <tr>\n",
       "      <th>19</th>\n",
       "      <td>5</td>\n",
       "      <td>My absolute favorite cafe in the city. Their b...</td>\n",
       "    </tr>\n",
       "    <tr>\n",
       "      <th>43</th>\n",
       "      <td>5</td>\n",
       "      <td>Stopped by after a Sunday morning walk in the ...</td>\n",
       "    </tr>\n",
       "    <tr>\n",
       "      <th>127</th>\n",
       "      <td>5</td>\n",
       "      <td>Milktooth is the place to go if you want a goo...</td>\n",
       "    </tr>\n",
       "    <tr>\n",
       "      <th>243</th>\n",
       "      <td>3</td>\n",
       "      <td>So much to like about this place--the beautifu...</td>\n",
       "    </tr>\n",
       "  </tbody>\n",
       "</table>\n",
       "</div>"
      ],
      "text/plain": [
       "     stars                                               text\n",
       "11       4  Locals recommended Milktooth, and it's an amaz...\n",
       "19       5  My absolute favorite cafe in the city. Their b...\n",
       "43       5  Stopped by after a Sunday morning walk in the ...\n",
       "127      5  Milktooth is the place to go if you want a goo...\n",
       "243      3  So much to like about this place--the beautifu..."
      ]
     },
     "execution_count": 5,
     "metadata": {},
     "output_type": "execute_result"
    }
   ],
   "source": [
    "cafe_reviews.drop(columns=[\"review_id\", \"business_id\", \"user_id\", \"date\", \"name\", \"review_count\", \"yelping_since\", \"cafe_review\"], inplace=True)\n",
    "cafe_reviews.head()"
   ]
  },
  {
   "cell_type": "code",
   "execution_count": 6,
   "id": "a73d4f69-4f06-433e-a90d-12d52b7afe26",
   "metadata": {
    "tags": []
   },
   "outputs": [],
   "source": [
    "from sklearn.model_selection import train_test_split\n",
    "X_train, X_test, y_train, y_test = train_test_split(cafe_reviews[\"text\"], cafe_reviews[\"stars\"], test_size=0.2, random_state=42)"
   ]
  },
  {
   "cell_type": "markdown",
   "id": "2dec4348-587e-4800-885a-07b57dec022c",
   "metadata": {
    "tags": []
   },
   "source": [
    "## Text Cleaner"
   ]
  },
  {
   "cell_type": "code",
   "execution_count": 7,
   "id": "31890fc2-fcf1-4fd0-90e9-3a189307ee4f",
   "metadata": {
    "tags": []
   },
   "outputs": [
    {
     "name": "stderr",
     "output_type": "stream",
     "text": [
      "[nltk_data] Downloading package punkt to /home/jupyter/nltk_data...\n",
      "[nltk_data]   Package punkt is already up-to-date!\n",
      "[nltk_data] Downloading package punkt_tab to\n",
      "[nltk_data]     /home/jupyter/nltk_data...\n",
      "[nltk_data]   Package punkt_tab is already up-to-date!\n",
      "[nltk_data] Downloading package stopwords to\n",
      "[nltk_data]     /home/jupyter/nltk_data...\n",
      "[nltk_data]   Package stopwords is already up-to-date!\n"
     ]
    }
   ],
   "source": [
    "import nltk\n",
    "nltk.download('punkt')\n",
    "nltk.download('punkt_tab')\n",
    "nltk.download('stopwords')\n",
    "from nltk.tokenize import word_tokenize\n",
    "from nltk.tokenize import word_tokenize, TreebankWordDetokenizer\n",
    "from nltk.corpus import stopwords\n",
    "stop_words = set(stopwords.words('english'))"
   ]
  },
  {
   "cell_type": "code",
   "execution_count": 8,
   "id": "564ef72d-d3c3-43f0-b909-cc75e95118b6",
   "metadata": {
    "tags": []
   },
   "outputs": [],
   "source": [
    "import string\n",
    "from nltk.stem import PorterStemmer\n",
    "\n",
    "ps = PorterStemmer()\n",
    "\n",
    "def cleanup_text(sentence):\n",
    "  # First, word tokenize.\n",
    "  tokenized_sms_messages = word_tokenize(sentence)\n",
    "\n",
    "  # Lower case\n",
    "  tokenized_sms_messages = [word.lower() for word in tokenized_sms_messages]\n",
    "\n",
    "  # Remove punctuation\n",
    "  tokenized_sms_messages = [word for word in tokenized_sms_messages if word not in string.punctuation]\n",
    "\n",
    "  # stem\n",
    "  # tokenized_sms_messages = [ps.stem(word) for word in tokenized_sms_messages]\n",
    "    \n",
    "  # Remove stop words\n",
    "  tokenized_sms_messages = [word for word in tokenized_sms_messages if word not in stop_words]\n",
    "\n",
    "  # put it back together\n",
    "  tokenized_sms_messages = TreebankWordDetokenizer().detokenize(tokenized_sms_messages)\n",
    "\n",
    "  return tokenized_sms_messages"
   ]
  },
  {
   "cell_type": "markdown",
   "id": "e423e1d4-68a3-4aa4-8dfe-66c7d9758dc1",
   "metadata": {
    "tags": []
   },
   "source": [
    "## NLP Model--TextBlob to directly tell the sentiment"
   ]
  },
  {
   "cell_type": "markdown",
   "id": "428ab7e6-bf65-4483-ab3f-7ce4ff51853e",
   "metadata": {},
   "source": [
    "Using a pre-trained machine learning model TextBlob, a pre-trained NLP model that provides sentiment polarity scores to classify reviews as positive, negative, or neutral for our current review dataset. This model is based on Naïve Bayes classification and a lexicon-based approach, allowing it to assign sentiment scores without requiring additional labeled data."
   ]
  },
  {
   "cell_type": "code",
   "execution_count": 9,
   "id": "881fdba7-f9a7-4429-b011-d982439bf05b",
   "metadata": {
    "tags": []
   },
   "outputs": [],
   "source": [
    "cafe_reviews[\"cleaned_text\"] = cafe_reviews[\"text\"].apply(cleanup_text)"
   ]
  },
  {
   "cell_type": "code",
   "execution_count": 10,
   "id": "6a9090a5-2f66-4ae2-b6d7-229e87b19986",
   "metadata": {
    "tags": []
   },
   "outputs": [
    {
     "data": {
      "text/html": [
       "<div>\n",
       "<style scoped>\n",
       "    .dataframe tbody tr th:only-of-type {\n",
       "        vertical-align: middle;\n",
       "    }\n",
       "\n",
       "    .dataframe tbody tr th {\n",
       "        vertical-align: top;\n",
       "    }\n",
       "\n",
       "    .dataframe thead th {\n",
       "        text-align: right;\n",
       "    }\n",
       "</style>\n",
       "<table border=\"1\" class=\"dataframe\">\n",
       "  <thead>\n",
       "    <tr style=\"text-align: right;\">\n",
       "      <th></th>\n",
       "      <th>stars</th>\n",
       "      <th>text</th>\n",
       "      <th>cleaned_text</th>\n",
       "    </tr>\n",
       "  </thead>\n",
       "  <tbody>\n",
       "    <tr>\n",
       "      <th>11</th>\n",
       "      <td>4</td>\n",
       "      <td>Locals recommended Milktooth, and it's an amaz...</td>\n",
       "      <td>locals recommended milktooth's amazing jewel i...</td>\n",
       "    </tr>\n",
       "    <tr>\n",
       "      <th>19</th>\n",
       "      <td>5</td>\n",
       "      <td>My absolute favorite cafe in the city. Their b...</td>\n",
       "      <td>absolute favorite cafe city black white latte ...</td>\n",
       "    </tr>\n",
       "    <tr>\n",
       "      <th>43</th>\n",
       "      <td>5</td>\n",
       "      <td>Stopped by after a Sunday morning walk in the ...</td>\n",
       "      <td>stopped sunday morning walk park great food co...</td>\n",
       "    </tr>\n",
       "    <tr>\n",
       "      <th>127</th>\n",
       "      <td>5</td>\n",
       "      <td>Milktooth is the place to go if you want a goo...</td>\n",
       "      <td>milktooth place go want good breakfast cocktai...</td>\n",
       "    </tr>\n",
       "    <tr>\n",
       "      <th>243</th>\n",
       "      <td>3</td>\n",
       "      <td>So much to like about this place--the beautifu...</td>\n",
       "      <td>much like place--beautiful mercer building loc...</td>\n",
       "    </tr>\n",
       "  </tbody>\n",
       "</table>\n",
       "</div>"
      ],
      "text/plain": [
       "     stars                                               text  \\\n",
       "11       4  Locals recommended Milktooth, and it's an amaz...   \n",
       "19       5  My absolute favorite cafe in the city. Their b...   \n",
       "43       5  Stopped by after a Sunday morning walk in the ...   \n",
       "127      5  Milktooth is the place to go if you want a goo...   \n",
       "243      3  So much to like about this place--the beautifu...   \n",
       "\n",
       "                                          cleaned_text  \n",
       "11   locals recommended milktooth's amazing jewel i...  \n",
       "19   absolute favorite cafe city black white latte ...  \n",
       "43   stopped sunday morning walk park great food co...  \n",
       "127  milktooth place go want good breakfast cocktai...  \n",
       "243  much like place--beautiful mercer building loc...  "
      ]
     },
     "execution_count": 10,
     "metadata": {},
     "output_type": "execute_result"
    }
   ],
   "source": [
    "cafe_reviews.head()"
   ]
  },
  {
   "cell_type": "markdown",
   "id": "f3adf32c-3783-4fed-a627-41dcb10d393d",
   "metadata": {
    "jp-MarkdownHeadingCollapsed": true,
    "tags": []
   },
   "source": [
    "### Apply TextBlob Sentiment Analysis"
   ]
  },
  {
   "cell_type": "code",
   "execution_count": 11,
   "id": "47c0ce80-7d73-4add-9c0d-19343de0b203",
   "metadata": {
    "tags": []
   },
   "outputs": [
    {
     "name": "stdout",
     "output_type": "stream",
     "text": [
      "Requirement already satisfied: textblob in /opt/conda/lib/python3.10/site-packages (0.19.0)\n",
      "Requirement already satisfied: nltk>=3.9 in /opt/conda/lib/python3.10/site-packages (from textblob) (3.9.1)\n",
      "Requirement already satisfied: click in /opt/conda/lib/python3.10/site-packages (from nltk>=3.9->textblob) (8.1.8)\n",
      "Requirement already satisfied: joblib in /opt/conda/lib/python3.10/site-packages (from nltk>=3.9->textblob) (1.4.2)\n",
      "Requirement already satisfied: regex>=2021.8.3 in /opt/conda/lib/python3.10/site-packages (from nltk>=3.9->textblob) (2024.11.6)\n",
      "Requirement already satisfied: tqdm in /opt/conda/lib/python3.10/site-packages (from nltk>=3.9->textblob) (4.67.1)\n"
     ]
    }
   ],
   "source": [
    "!pip install textblob"
   ]
  },
  {
   "cell_type": "code",
   "execution_count": 12,
   "id": "c78230d7-7df6-4084-bf44-bbb8b118dc30",
   "metadata": {
    "tags": []
   },
   "outputs": [],
   "source": [
    "from textblob import TextBlob\n",
    "\n",
    "cafe_reviews[\"sentiment\"] = cafe_reviews[\"cleaned_text\"].apply(lambda review: TextBlob(review).sentiment.polarity)\n",
    "cafe_reviews['Sentiment_Category'] = cafe_reviews[\"sentiment\"].apply(\n",
    "    lambda polarity: 'Positive' if polarity > 0.1 else ('Negative' if polarity < 0.05 else 'Neutral'))"
   ]
  },
  {
   "cell_type": "code",
   "execution_count": 13,
   "id": "fe7335de-f38c-4e5d-b333-152a5240d6e0",
   "metadata": {
    "tags": []
   },
   "outputs": [
    {
     "data": {
      "text/html": [
       "<div>\n",
       "<style scoped>\n",
       "    .dataframe tbody tr th:only-of-type {\n",
       "        vertical-align: middle;\n",
       "    }\n",
       "\n",
       "    .dataframe tbody tr th {\n",
       "        vertical-align: top;\n",
       "    }\n",
       "\n",
       "    .dataframe thead th {\n",
       "        text-align: right;\n",
       "    }\n",
       "</style>\n",
       "<table border=\"1\" class=\"dataframe\">\n",
       "  <thead>\n",
       "    <tr style=\"text-align: right;\">\n",
       "      <th></th>\n",
       "      <th>stars</th>\n",
       "      <th>text</th>\n",
       "      <th>cleaned_text</th>\n",
       "      <th>sentiment</th>\n",
       "      <th>Sentiment_Category</th>\n",
       "    </tr>\n",
       "  </thead>\n",
       "  <tbody>\n",
       "    <tr>\n",
       "      <th>11</th>\n",
       "      <td>4</td>\n",
       "      <td>Locals recommended Milktooth, and it's an amaz...</td>\n",
       "      <td>locals recommended milktooth's amazing jewel i...</td>\n",
       "      <td>0.600000</td>\n",
       "      <td>Positive</td>\n",
       "    </tr>\n",
       "    <tr>\n",
       "      <th>19</th>\n",
       "      <td>5</td>\n",
       "      <td>My absolute favorite cafe in the city. Their b...</td>\n",
       "      <td>absolute favorite cafe city black white latte ...</td>\n",
       "      <td>0.434921</td>\n",
       "      <td>Positive</td>\n",
       "    </tr>\n",
       "    <tr>\n",
       "      <th>43</th>\n",
       "      <td>5</td>\n",
       "      <td>Stopped by after a Sunday morning walk in the ...</td>\n",
       "      <td>stopped sunday morning walk park great food co...</td>\n",
       "      <td>0.650000</td>\n",
       "      <td>Positive</td>\n",
       "    </tr>\n",
       "    <tr>\n",
       "      <th>127</th>\n",
       "      <td>5</td>\n",
       "      <td>Milktooth is the place to go if you want a goo...</td>\n",
       "      <td>milktooth place go want good breakfast cocktai...</td>\n",
       "      <td>0.242103</td>\n",
       "      <td>Positive</td>\n",
       "    </tr>\n",
       "    <tr>\n",
       "      <th>243</th>\n",
       "      <td>3</td>\n",
       "      <td>So much to like about this place--the beautifu...</td>\n",
       "      <td>much like place--beautiful mercer building loc...</td>\n",
       "      <td>0.145833</td>\n",
       "      <td>Positive</td>\n",
       "    </tr>\n",
       "  </tbody>\n",
       "</table>\n",
       "</div>"
      ],
      "text/plain": [
       "     stars                                               text  \\\n",
       "11       4  Locals recommended Milktooth, and it's an amaz...   \n",
       "19       5  My absolute favorite cafe in the city. Their b...   \n",
       "43       5  Stopped by after a Sunday morning walk in the ...   \n",
       "127      5  Milktooth is the place to go if you want a goo...   \n",
       "243      3  So much to like about this place--the beautifu...   \n",
       "\n",
       "                                          cleaned_text  sentiment  \\\n",
       "11   locals recommended milktooth's amazing jewel i...   0.600000   \n",
       "19   absolute favorite cafe city black white latte ...   0.434921   \n",
       "43   stopped sunday morning walk park great food co...   0.650000   \n",
       "127  milktooth place go want good breakfast cocktai...   0.242103   \n",
       "243  much like place--beautiful mercer building loc...   0.145833   \n",
       "\n",
       "    Sentiment_Category  \n",
       "11            Positive  \n",
       "19            Positive  \n",
       "43            Positive  \n",
       "127           Positive  \n",
       "243           Positive  "
      ]
     },
     "execution_count": 13,
     "metadata": {},
     "output_type": "execute_result"
    }
   ],
   "source": [
    "cafe_reviews.head()"
   ]
  },
  {
   "cell_type": "markdown",
   "id": "f078811a-505d-4be6-b8f2-eccba6e94df7",
   "metadata": {},
   "source": [
    "Based on the analysis, we can tell the sentiment is positive/negative of each review."
   ]
  },
  {
   "cell_type": "code",
   "execution_count": 40,
   "id": "6a2d06af-a711-4d0b-a852-ff9a1f2ccb64",
   "metadata": {
    "tags": []
   },
   "outputs": [
    {
     "name": "stderr",
     "output_type": "stream",
     "text": [
      "/var/tmp/ipykernel_21223/1232317157.py:18: UserWarning: No artists with labels found to put in legend.  Note that artists whose label start with an underscore are ignored when legend() is called with no argument.\n",
      "  plt.legend(title=\"Sentiment\")\n"
     ]
    },
    {
     "data": {
      "image/png": "[encoded data removed]",
      "text/plain": [
       "<Figure size 1200x600 with 1 Axes>"
      ]
     },
     "metadata": {},
     "output_type": "display_data"
    }
   ],
   "source": [
    "import matplotlib.pyplot as plt\n",
    "import seaborn as sns\n",
    "import pandas as pd\n",
    "\n",
    "plt.figure(figsize=(12, 6))\n",
    "ax = sns.countplot(data=cafe_reviews, x=\"Sentiment_Category\", hue=\"Sentiment_Category\", palette=\"Set2\")\n",
    "\n",
    "for p in ax.patches:\n",
    "    ax.annotate(f'{int(p.get_height())}', \n",
    "                (p.get_x() + p.get_width() / 2., p.get_height()), \n",
    "                ha='center', va='bottom', fontsize=12, color='black')\n",
    "\n",
    "plt.xticks(rotation=45)\n",
    "plt.xlabel(\"Business Category\")\n",
    "plt.ylabel(\"Count\")\n",
    "plt.title(\"Sentiment Category Distribution Across Business Categories\")\n",
    "plt.legend(title=\"Sentiment\")\n",
    "\n",
    "plt.show()\n",
    "\n"
   ]
  },
  {
   "cell_type": "markdown",
   "id": "5cb12a9b-b291-47f1-8634-b4e8726c0044",
   "metadata": {
    "tags": []
   },
   "source": [
    "We can observe that most of the reviews have strong sentiments positive and negative, what's more positive reviews is dominant in this dataset."
   ]
  },
  {
   "cell_type": "markdown",
   "id": "936881d9-7328-484a-8e7a-5fb7ef876707",
   "metadata": {
    "tags": []
   },
   "source": [
    "### Analyze the negative reviews based on Frequency"
   ]
  },
  {
   "cell_type": "code",
   "execution_count": 14,
   "id": "5604402f-940a-4a42-a131-59fc9d3ac8f7",
   "metadata": {
    "tags": []
   },
   "outputs": [
    {
     "data": {
      "text/html": [
       "<div>\n",
       "<style scoped>\n",
       "    .dataframe tbody tr th:only-of-type {\n",
       "        vertical-align: middle;\n",
       "    }\n",
       "\n",
       "    .dataframe tbody tr th {\n",
       "        vertical-align: top;\n",
       "    }\n",
       "\n",
       "    .dataframe thead th {\n",
       "        text-align: right;\n",
       "    }\n",
       "</style>\n",
       "<table border=\"1\" class=\"dataframe\">\n",
       "  <thead>\n",
       "    <tr style=\"text-align: right;\">\n",
       "      <th></th>\n",
       "      <th>stars</th>\n",
       "      <th>cleaned_text</th>\n",
       "      <th>Sentiment_Category</th>\n",
       "    </tr>\n",
       "  </thead>\n",
       "  <tbody>\n",
       "    <tr>\n",
       "      <th>456</th>\n",
       "      <td>2</td>\n",
       "      <td>going several times going fresh sad report las...</td>\n",
       "      <td>Negative</td>\n",
       "    </tr>\n",
       "    <tr>\n",
       "      <th>647</th>\n",
       "      <td>1</td>\n",
       "      <td>hubby eager try establishment due rave review ...</td>\n",
       "      <td>Negative</td>\n",
       "    </tr>\n",
       "    <tr>\n",
       "      <th>1227</th>\n",
       "      <td>3</td>\n",
       "      <td>cheap food large selection unfortunately forgo...</td>\n",
       "      <td>Negative</td>\n",
       "    </tr>\n",
       "    <tr>\n",
       "      <th>1651</th>\n",
       "      <td>1</td>\n",
       "      <td>awful business model took forever even figure ...</td>\n",
       "      <td>Negative</td>\n",
       "    </tr>\n",
       "    <tr>\n",
       "      <th>1711</th>\n",
       "      <td>4</td>\n",
       "      <td>dayum good burger juicy glistening melting che...</td>\n",
       "      <td>Negative</td>\n",
       "    </tr>\n",
       "  </tbody>\n",
       "</table>\n",
       "</div>"
      ],
      "text/plain": [
       "      stars                                       cleaned_text  \\\n",
       "456       2  going several times going fresh sad report las...   \n",
       "647       1  hubby eager try establishment due rave review ...   \n",
       "1227      3  cheap food large selection unfortunately forgo...   \n",
       "1651      1  awful business model took forever even figure ...   \n",
       "1711      4  dayum good burger juicy glistening melting che...   \n",
       "\n",
       "     Sentiment_Category  \n",
       "456            Negative  \n",
       "647            Negative  \n",
       "1227           Negative  \n",
       "1651           Negative  \n",
       "1711           Negative  "
      ]
     },
     "execution_count": 14,
     "metadata": {},
     "output_type": "execute_result"
    }
   ],
   "source": [
    "df_negative = cafe_reviews.copy()\n",
    "df_negative = df_negative[df_negative['Sentiment_Category']=='Negative']\n",
    "df_negative.drop(columns=[\"text\",\"sentiment\"], inplace=True)\n",
    "df_negative.head()"
   ]
  },
  {
   "cell_type": "code",
   "execution_count": 23,
   "id": "db71a198-86fd-46ca-989d-ddacee6f8a0a",
   "metadata": {
    "tags": []
   },
   "outputs": [
    {
     "data": {
      "text/plain": [
       "[('going', 9537),\n",
       " ('several', 18982),\n",
       " ('times', 21679),\n",
       " ('fresh', 8945),\n",
       " ('sad', 18351),\n",
       " ('report', 17718),\n",
       " ('last', 12197),\n",
       " ('visit', 23149),\n",
       " ('par', 15423),\n",
       " ('went', 23527)]"
      ]
     },
     "execution_count": 23,
     "metadata": {},
     "output_type": "execute_result"
    }
   ],
   "source": [
    "from sklearn.feature_extraction.text import CountVectorizer\n",
    "\n",
    "cv = CountVectorizer()\n",
    "cv.fit(df_negative[\"cleaned_text\"])\n",
    "word_counts = cv.vocabulary_\n",
    "top_words = list(word_counts.items())[:10]\n",
    "top_words"
   ]
  },
  {
   "cell_type": "markdown",
   "id": "2a39ae9d-d455-4977-a9f5-939cdb19d7b2",
   "metadata": {
    "tags": []
   },
   "source": [
    "We can see that most of the negative reviews complain about the time, freshness."
   ]
  },
  {
   "cell_type": "markdown",
   "id": "35e16945-8698-4a37-be9a-ffe9c3734724",
   "metadata": {
    "tags": []
   },
   "source": [
    "### Check contradictory revews"
   ]
  },
  {
   "cell_type": "code",
   "execution_count": 27,
   "id": "4639de5e-dbf4-4f94-9c3e-6475aed17b8a",
   "metadata": {
    "tags": []
   },
   "outputs": [],
   "source": [
    "cafe_reviews[\"is_contradictory\"] = (\n",
    "    ((cafe_reviews[\"stars\"] < 3) & (cafe_reviews[\"Sentiment_Category\"] == \"Positive\")) |\n",
    "    ((cafe_reviews[\"stars\"] > 3) & (cafe_reviews[\"Sentiment_Category\"] == \"Negative\"))\n",
    ").astype(int)"
   ]
  },
  {
   "cell_type": "code",
   "execution_count": 28,
   "id": "51f48d7b-b6c2-471a-bf82-221172667809",
   "metadata": {
    "tags": []
   },
   "outputs": [
    {
     "data": {
      "image/png": "[encoded data removed]",
      "text/plain": [
       "<Figure size 600x400 with 1 Axes>"
      ]
     },
     "metadata": {},
     "output_type": "display_data"
    }
   ],
   "source": [
    "import matplotlib.pyplot as plt\n",
    "\n",
    "count_data = cafe_reviews[\"is_contradictory\"].value_counts()\n",
    "plt.figure(figsize=(6, 4))\n",
    "bars = plt.bar(count_data.index.astype(str), count_data.values)\n",
    "for bar in bars:\n",
    "    plt.text(bar.get_x() + bar.get_width()/2, bar.get_height(),\n",
    "             f'{bar.get_height():,}', ha='center', va='bottom', fontsize=12, color='black')\n",
    "\n",
    "plt.xlabel(\"is_contradictory\")\n",
    "plt.ylabel(\"Count\")\n",
    "plt.title(\"Count of is_contradictory in Cafe_reviews\")\n",
    "plt.show()"
   ]
  },
  {
   "cell_type": "markdown",
   "id": "7e76bc2d-17f1-4e36-a914-d32b5c55cf06",
   "metadata": {},
   "source": [
    "We found out that there are many reviews is contradictory:\n",
    "\n",
    "01 Sentiment_Category = Positive but Stars < 3\n",
    "\n",
    "02 Sentiment_Category = Negative but Stars > 3"
   ]
  },
  {
   "cell_type": "markdown",
   "id": "ede3a263-6d3a-4fea-ad3c-5001089505a6",
   "metadata": {
    "tags": []
   },
   "source": [
    "## Training Sentiment Analysis Model for future analysis"
   ]
  },
  {
   "cell_type": "markdown",
   "id": "459ea5a7-3b75-4e65-b5d6-0d0fb62932ec",
   "metadata": {
    "tags": []
   },
   "source": [
    "### Clean up the contradictory comments (low stars but positive/high stars but negative)"
   ]
  },
  {
   "cell_type": "markdown",
   "id": "4ce43b65-b16e-4b65-b9e2-1878054509ac",
   "metadata": {},
   "source": [
    "In order to make sure that our dataset is clean and each review is valid, we cleaned up those Conflicting reviews and comments, for example, the sentiment_category is positive but got the stars that are less than 3."
   ]
  },
  {
   "cell_type": "code",
   "execution_count": 31,
   "id": "7f66b5d8-c227-49c1-a3eb-ac44b4751325",
   "metadata": {
    "tags": []
   },
   "outputs": [
    {
     "data": {
      "text/html": [
       "<div>\n",
       "<style scoped>\n",
       "    .dataframe tbody tr th:only-of-type {\n",
       "        vertical-align: middle;\n",
       "    }\n",
       "\n",
       "    .dataframe tbody tr th {\n",
       "        vertical-align: top;\n",
       "    }\n",
       "\n",
       "    .dataframe thead th {\n",
       "        text-align: right;\n",
       "    }\n",
       "</style>\n",
       "<table border=\"1\" class=\"dataframe\">\n",
       "  <thead>\n",
       "    <tr style=\"text-align: right;\">\n",
       "      <th></th>\n",
       "      <th>stars</th>\n",
       "      <th>cleaned_text</th>\n",
       "      <th>sentiment</th>\n",
       "      <th>Sentiment_Category</th>\n",
       "      <th>is_contradictory</th>\n",
       "    </tr>\n",
       "  </thead>\n",
       "  <tbody>\n",
       "    <tr>\n",
       "      <th>11</th>\n",
       "      <td>4</td>\n",
       "      <td>locals recommended milktooth's amazing jewel i...</td>\n",
       "      <td>0.600000</td>\n",
       "      <td>Positive</td>\n",
       "      <td>0</td>\n",
       "    </tr>\n",
       "    <tr>\n",
       "      <th>19</th>\n",
       "      <td>5</td>\n",
       "      <td>absolute favorite cafe city black white latte ...</td>\n",
       "      <td>0.434921</td>\n",
       "      <td>Positive</td>\n",
       "      <td>0</td>\n",
       "    </tr>\n",
       "    <tr>\n",
       "      <th>43</th>\n",
       "      <td>5</td>\n",
       "      <td>stopped sunday morning walk park great food co...</td>\n",
       "      <td>0.650000</td>\n",
       "      <td>Positive</td>\n",
       "      <td>0</td>\n",
       "    </tr>\n",
       "    <tr>\n",
       "      <th>127</th>\n",
       "      <td>5</td>\n",
       "      <td>milktooth place go want good breakfast cocktai...</td>\n",
       "      <td>0.242103</td>\n",
       "      <td>Positive</td>\n",
       "      <td>0</td>\n",
       "    </tr>\n",
       "    <tr>\n",
       "      <th>243</th>\n",
       "      <td>3</td>\n",
       "      <td>much like place--beautiful mercer building loc...</td>\n",
       "      <td>0.145833</td>\n",
       "      <td>Positive</td>\n",
       "      <td>0</td>\n",
       "    </tr>\n",
       "  </tbody>\n",
       "</table>\n",
       "</div>"
      ],
      "text/plain": [
       "     stars                                       cleaned_text  sentiment  \\\n",
       "11       4  locals recommended milktooth's amazing jewel i...   0.600000   \n",
       "19       5  absolute favorite cafe city black white latte ...   0.434921   \n",
       "43       5  stopped sunday morning walk park great food co...   0.650000   \n",
       "127      5  milktooth place go want good breakfast cocktai...   0.242103   \n",
       "243      3  much like place--beautiful mercer building loc...   0.145833   \n",
       "\n",
       "    Sentiment_Category  is_contradictory  \n",
       "11            Positive                 0  \n",
       "19            Positive                 0  \n",
       "43            Positive                 0  \n",
       "127           Positive                 0  \n",
       "243           Positive                 0  "
      ]
     },
     "execution_count": 31,
     "metadata": {},
     "output_type": "execute_result"
    }
   ],
   "source": [
    "df_valid_review = cafe_reviews.copy()\n",
    "df_valid_review.drop(columns=[\"text\"], inplace=True)\n",
    "df_valid_review.head()"
   ]
  },
  {
   "cell_type": "code",
   "execution_count": 32,
   "id": "1a3efd0b-9fc5-4bc3-adaf-dc7e857fd823",
   "metadata": {
    "tags": []
   },
   "outputs": [
    {
     "data": {
      "text/html": [
       "<div>\n",
       "<style scoped>\n",
       "    .dataframe tbody tr th:only-of-type {\n",
       "        vertical-align: middle;\n",
       "    }\n",
       "\n",
       "    .dataframe tbody tr th {\n",
       "        vertical-align: top;\n",
       "    }\n",
       "\n",
       "    .dataframe thead th {\n",
       "        text-align: right;\n",
       "    }\n",
       "</style>\n",
       "<table border=\"1\" class=\"dataframe\">\n",
       "  <thead>\n",
       "    <tr style=\"text-align: right;\">\n",
       "      <th></th>\n",
       "      <th>stars</th>\n",
       "      <th>cleaned_text</th>\n",
       "      <th>sentiment</th>\n",
       "      <th>Sentiment_Category</th>\n",
       "      <th>is_contradictory</th>\n",
       "    </tr>\n",
       "  </thead>\n",
       "  <tbody>\n",
       "    <tr>\n",
       "      <th>11</th>\n",
       "      <td>4</td>\n",
       "      <td>locals recommended milktooth's amazing jewel i...</td>\n",
       "      <td>0.600000</td>\n",
       "      <td>Positive</td>\n",
       "      <td>0</td>\n",
       "    </tr>\n",
       "    <tr>\n",
       "      <th>19</th>\n",
       "      <td>5</td>\n",
       "      <td>absolute favorite cafe city black white latte ...</td>\n",
       "      <td>0.434921</td>\n",
       "      <td>Positive</td>\n",
       "      <td>0</td>\n",
       "    </tr>\n",
       "    <tr>\n",
       "      <th>43</th>\n",
       "      <td>5</td>\n",
       "      <td>stopped sunday morning walk park great food co...</td>\n",
       "      <td>0.650000</td>\n",
       "      <td>Positive</td>\n",
       "      <td>0</td>\n",
       "    </tr>\n",
       "    <tr>\n",
       "      <th>127</th>\n",
       "      <td>5</td>\n",
       "      <td>milktooth place go want good breakfast cocktai...</td>\n",
       "      <td>0.242103</td>\n",
       "      <td>Positive</td>\n",
       "      <td>0</td>\n",
       "    </tr>\n",
       "    <tr>\n",
       "      <th>243</th>\n",
       "      <td>3</td>\n",
       "      <td>much like place--beautiful mercer building loc...</td>\n",
       "      <td>0.145833</td>\n",
       "      <td>Positive</td>\n",
       "      <td>0</td>\n",
       "    </tr>\n",
       "  </tbody>\n",
       "</table>\n",
       "</div>"
      ],
      "text/plain": [
       "     stars                                       cleaned_text  sentiment  \\\n",
       "11       4  locals recommended milktooth's amazing jewel i...   0.600000   \n",
       "19       5  absolute favorite cafe city black white latte ...   0.434921   \n",
       "43       5  stopped sunday morning walk park great food co...   0.650000   \n",
       "127      5  milktooth place go want good breakfast cocktai...   0.242103   \n",
       "243      3  much like place--beautiful mercer building loc...   0.145833   \n",
       "\n",
       "    Sentiment_Category  is_contradictory  \n",
       "11            Positive                 0  \n",
       "19            Positive                 0  \n",
       "43            Positive                 0  \n",
       "127           Positive                 0  \n",
       "243           Positive                 0  "
      ]
     },
     "execution_count": 32,
     "metadata": {},
     "output_type": "execute_result"
    }
   ],
   "source": [
    "df_valid_review[\"Sentiment_Category\"] = df_valid_review[\"Sentiment_Category\"].astype(str)\n",
    "\n",
    "df_valid_review = df_valid_review[~(\n",
    "    ((df_valid_review[\"Sentiment_Category\"] == \"Positive\") & (df_valid_review[\"stars\"] < 3)) |\n",
    "    ((df_valid_review[\"Sentiment_Category\"] == \"Negative\") & (df_valid_review[\"stars\"] > 3))\n",
    ")]\n",
    "df_valid_review.head()"
   ]
  },
  {
   "cell_type": "markdown",
   "id": "d46cb173-2619-4edf-9932-bef9cfe0280d",
   "metadata": {
    "tags": []
   },
   "source": [
    "After clean the dataset, we can start to train our model."
   ]
  },
  {
   "cell_type": "markdown",
   "id": "0899d09b-d8c1-4af3-82b5-4c78e48e6af2",
   "metadata": {
    "jp-MarkdownHeadingCollapsed": true,
    "tags": []
   },
   "source": [
    "### Train KNN model"
   ]
  },
  {
   "cell_type": "code",
   "execution_count": 34,
   "id": "a84f55a8-5d1f-4109-840a-a7cbed9ba08b",
   "metadata": {
    "tags": []
   },
   "outputs": [
    {
     "data": {
      "text/html": [
       "<div>\n",
       "<style scoped>\n",
       "    .dataframe tbody tr th:only-of-type {\n",
       "        vertical-align: middle;\n",
       "    }\n",
       "\n",
       "    .dataframe tbody tr th {\n",
       "        vertical-align: top;\n",
       "    }\n",
       "\n",
       "    .dataframe thead th {\n",
       "        text-align: right;\n",
       "    }\n",
       "</style>\n",
       "<table border=\"1\" class=\"dataframe\">\n",
       "  <thead>\n",
       "    <tr style=\"text-align: right;\">\n",
       "      <th></th>\n",
       "      <th>stars</th>\n",
       "      <th>cleaned_text</th>\n",
       "      <th>sentiment</th>\n",
       "      <th>Sentiment_Category</th>\n",
       "      <th>is_contradictory</th>\n",
       "    </tr>\n",
       "  </thead>\n",
       "  <tbody>\n",
       "    <tr>\n",
       "      <th>11</th>\n",
       "      <td>4</td>\n",
       "      <td>locals recommended milktooth's amazing jewel i...</td>\n",
       "      <td>0.600000</td>\n",
       "      <td>Positive</td>\n",
       "      <td>0</td>\n",
       "    </tr>\n",
       "    <tr>\n",
       "      <th>19</th>\n",
       "      <td>5</td>\n",
       "      <td>absolute favorite cafe city black white latte ...</td>\n",
       "      <td>0.434921</td>\n",
       "      <td>Positive</td>\n",
       "      <td>0</td>\n",
       "    </tr>\n",
       "    <tr>\n",
       "      <th>43</th>\n",
       "      <td>5</td>\n",
       "      <td>stopped sunday morning walk park great food co...</td>\n",
       "      <td>0.650000</td>\n",
       "      <td>Positive</td>\n",
       "      <td>0</td>\n",
       "    </tr>\n",
       "    <tr>\n",
       "      <th>127</th>\n",
       "      <td>5</td>\n",
       "      <td>milktooth place go want good breakfast cocktai...</td>\n",
       "      <td>0.242103</td>\n",
       "      <td>Positive</td>\n",
       "      <td>0</td>\n",
       "    </tr>\n",
       "    <tr>\n",
       "      <th>243</th>\n",
       "      <td>3</td>\n",
       "      <td>much like place--beautiful mercer building loc...</td>\n",
       "      <td>0.145833</td>\n",
       "      <td>Positive</td>\n",
       "      <td>0</td>\n",
       "    </tr>\n",
       "  </tbody>\n",
       "</table>\n",
       "</div>"
      ],
      "text/plain": [
       "     stars                                       cleaned_text  sentiment  \\\n",
       "11       4  locals recommended milktooth's amazing jewel i...   0.600000   \n",
       "19       5  absolute favorite cafe city black white latte ...   0.434921   \n",
       "43       5  stopped sunday morning walk park great food co...   0.650000   \n",
       "127      5  milktooth place go want good breakfast cocktai...   0.242103   \n",
       "243      3  much like place--beautiful mercer building loc...   0.145833   \n",
       "\n",
       "    Sentiment_Category  is_contradictory  \n",
       "11            Positive                 0  \n",
       "19            Positive                 0  \n",
       "43            Positive                 0  \n",
       "127           Positive                 0  \n",
       "243           Positive                 0  "
      ]
     },
     "execution_count": 34,
     "metadata": {},
     "output_type": "execute_result"
    }
   ],
   "source": [
    "df_valid_review.head()"
   ]
  },
  {
   "cell_type": "code",
   "execution_count": 35,
   "id": "971f5502-c488-494d-af4c-4adb09e4e23a",
   "metadata": {
    "tags": []
   },
   "outputs": [
    {
     "data": {
      "text/html": [
       "<div>\n",
       "<style scoped>\n",
       "    .dataframe tbody tr th:only-of-type {\n",
       "        vertical-align: middle;\n",
       "    }\n",
       "\n",
       "    .dataframe tbody tr th {\n",
       "        vertical-align: top;\n",
       "    }\n",
       "\n",
       "    .dataframe thead th {\n",
       "        text-align: right;\n",
       "    }\n",
       "</style>\n",
       "<table border=\"1\" class=\"dataframe\">\n",
       "  <thead>\n",
       "    <tr style=\"text-align: right;\">\n",
       "      <th></th>\n",
       "      <th>stars</th>\n",
       "      <th>cleaned_text</th>\n",
       "      <th>is_contradictory</th>\n",
       "    </tr>\n",
       "  </thead>\n",
       "  <tbody>\n",
       "    <tr>\n",
       "      <th>11</th>\n",
       "      <td>4</td>\n",
       "      <td>locals recommended milktooth's amazing jewel i...</td>\n",
       "      <td>0</td>\n",
       "    </tr>\n",
       "  </tbody>\n",
       "</table>\n",
       "</div>"
      ],
      "text/plain": [
       "    stars                                       cleaned_text  is_contradictory\n",
       "11      4  locals recommended milktooth's amazing jewel i...                 0"
      ]
     },
     "execution_count": 35,
     "metadata": {},
     "output_type": "execute_result"
    }
   ],
   "source": [
    "df_valid_review = df_valid_review.drop(['sentiment', 'Sentiment_Category'], axis=1)\n",
    "df_valid_review.head(1)"
   ]
  },
  {
   "cell_type": "code",
   "execution_count": 36,
   "id": "1ec7bfc6-19f8-4d51-8e94-248ef2a06a4a",
   "metadata": {
    "tags": []
   },
   "outputs": [],
   "source": [
    "df_valid_review[\"sentiment\"] = df_valid_review[\"stars\"].apply(lambda x: \"positive\" if x >=3 else \"negative\") # different criteria may apply here"
   ]
  },
  {
   "cell_type": "code",
   "execution_count": 37,
   "id": "fea0c9d7-279e-4fba-8b4c-cb3058a05e3b",
   "metadata": {
    "tags": []
   },
   "outputs": [],
   "source": [
    "import gensim.downloader as api\n",
    "\n",
    "# Load the pretrained model\n",
    "pretrained_model = api.load('glove-wiki-gigaword-50')\n",
    "\n",
    "import numpy as np\n",
    "\n",
    "vector_size = pretrained_model.vector_size  # Get the embedding size\n",
    "\n",
    "tokenized_reviews = df_valid_review[\"cleaned_text\"]\n",
    "\n",
    "embeddings = list(map(lambda tokenized_review: pretrained_model.get_mean_vector(tokenized_review) if len(tokenized_review) > 0 else np.zeros(vector_size), tokenized_reviews))\n",
    "     "
   ]
  },
  {
   "cell_type": "code",
   "execution_count": 38,
   "id": "eac5ca8f-623d-4c62-8797-aa83f2ee4cab",
   "metadata": {
    "tags": []
   },
   "outputs": [],
   "source": [
    "from sklearn.neighbors import KNeighborsClassifier\n",
    "from sklearn.model_selection import train_test_split\n",
    "import sklearn\n",
    "from sklearn.metrics import accuracy_score\n",
    "from sklearn.metrics import confusion_matrix\n",
    "import pandas as pd\n",
    "\n",
    "X= df_valid_review[\"cleaned_text\"]\n",
    "y= df_valid_review[\"sentiment\"]\n",
    "def assess_model(df, X, y_column):\n",
    "  X_train, X_test, y_train, y_test = train_test_split(X, y, test_size=0.2, random_state=42)\n",
    "  # train the model\n",
    "  classifier = KNeighborsClassifier()\n",
    "  classifier.fit(X_train, y_train)\n",
    "\n",
    "  # Predict on the test data\n",
    "  y_pred = classifier.predict(X_test)\n",
    "\n",
    "  # Evaluate the model\n",
    "  accuracy = accuracy_score(y_test, y_pred)\n",
    "  f1_score = sklearn.metrics.f1_score(y_test, y_pred, pos_label=\"positive\")\n",
    "  print(f\"Accuracy: {accuracy}\")\n",
    "  print(f\"f1_score: {f1_score}\")\n",
    "  print(sklearn.metrics.classification_report(y_test,y_pred))\n",
    "  display(pd.DataFrame(confusion_matrix(y_test, y_pred, normalize='true'), columns=classifier.classes_, index=classifier.classes_ ))\n"
   ]
  },
  {
   "cell_type": "code",
   "execution_count": 39,
   "id": "11c7dc77-078a-42e6-834c-5c393e3e7c15",
   "metadata": {
    "tags": []
   },
   "outputs": [
    {
     "name": "stdout",
     "output_type": "stream",
     "text": [
      "Accuracy: 0.9090471838776394\n",
      "f1_score: 0.9521689642089288\n",
      "              precision    recall  f1-score   support\n",
      "\n",
      "    negative       0.31      0.04      0.08      1793\n",
      "    positive       0.92      0.99      0.95     18998\n",
      "\n",
      "    accuracy                           0.91     20791\n",
      "   macro avg       0.61      0.52      0.51     20791\n",
      "weighted avg       0.86      0.91      0.88     20791\n",
      "\n"
     ]
    },
    {
     "data": {
      "text/html": [
       "<div>\n",
       "<style scoped>\n",
       "    .dataframe tbody tr th:only-of-type {\n",
       "        vertical-align: middle;\n",
       "    }\n",
       "\n",
       "    .dataframe tbody tr th {\n",
       "        vertical-align: top;\n",
       "    }\n",
       "\n",
       "    .dataframe thead th {\n",
       "        text-align: right;\n",
       "    }\n",
       "</style>\n",
       "<table border=\"1\" class=\"dataframe\">\n",
       "  <thead>\n",
       "    <tr style=\"text-align: right;\">\n",
       "      <th></th>\n",
       "      <th>negative</th>\n",
       "      <th>positive</th>\n",
       "    </tr>\n",
       "  </thead>\n",
       "  <tbody>\n",
       "    <tr>\n",
       "      <th>negative</th>\n",
       "      <td>0.043503</td>\n",
       "      <td>0.956497</td>\n",
       "    </tr>\n",
       "    <tr>\n",
       "      <th>positive</th>\n",
       "      <td>0.009264</td>\n",
       "      <td>0.990736</td>\n",
       "    </tr>\n",
       "  </tbody>\n",
       "</table>\n",
       "</div>"
      ],
      "text/plain": [
       "          negative  positive\n",
       "negative  0.043503  0.956497\n",
       "positive  0.009264  0.990736"
      ]
     },
     "metadata": {},
     "output_type": "display_data"
    }
   ],
   "source": [
    "assess_model(cafe_reviews, embeddings, \"sentiment\")"
   ]
  },
  {
   "cell_type": "markdown",
   "id": "3f1b7424-6276-4428-b4b9-a6f856b06078",
   "metadata": {},
   "source": [
    "It seems that the model focus more on the positive reviews.\n",
    "\n",
    "01 Because the training data is imbalanced, the model may be more inclined to predict reviews as positive. The number of samples of negative comments (negative) is much smaller than that of positive comments (11145 vs. 95881)\n",
    "\n",
    "02 "
   ]
  },
  {
   "cell_type": "markdown",
   "id": "5da73c2c-a829-4700-b31a-640ac8bcf0f9",
   "metadata": {
    "tags": []
   },
   "source": [
    "### Try to adjust the threshold and use LogisticRegression to focus more on the negative reviews and improve the model ability"
   ]
  },
  {
   "cell_type": "code",
   "execution_count": 46,
   "id": "77bda005-c66b-4cd7-ab42-95038df78c64",
   "metadata": {
    "tags": []
   },
   "outputs": [],
   "source": [
    "import gensim.downloader as api\n",
    "import numpy as np\n",
    "import pandas as pd\n",
    "import matplotlib.pyplot as plt\n",
    "import seaborn as sns\n",
    "from sklearn.linear_model import LogisticRegression\n",
    "from sklearn.model_selection import train_test_split\n",
    "from sklearn.metrics import accuracy_score, confusion_matrix, classification_report, f1_score"
   ]
  },
  {
   "cell_type": "code",
   "execution_count": 47,
   "id": "3b8a90b6-8e05-44f7-a480-7792c206dbe3",
   "metadata": {
    "tags": []
   },
   "outputs": [
    {
     "name": "stdout",
     "output_type": "stream",
     "text": [
      "Accuracy: 0.8559\n",
      "f1_score: 0.9192\n",
      "              precision    recall  f1-score   support\n",
      "\n",
      "    negative       0.28      0.42      0.34      1793\n",
      "    positive       0.94      0.90      0.92     18998\n",
      "\n",
      "    accuracy                           0.86     20791\n",
      "   macro avg       0.61      0.66      0.63     20791\n",
      "weighted avg       0.89      0.86      0.87     20791\n",
      "\n"
     ]
    },
    {
     "data": {
      "text/html": [
       "<div>\n",
       "<style scoped>\n",
       "    .dataframe tbody tr th:only-of-type {\n",
       "        vertical-align: middle;\n",
       "    }\n",
       "\n",
       "    .dataframe tbody tr th {\n",
       "        vertical-align: top;\n",
       "    }\n",
       "\n",
       "    .dataframe thead th {\n",
       "        text-align: right;\n",
       "    }\n",
       "</style>\n",
       "<table border=\"1\" class=\"dataframe\">\n",
       "  <thead>\n",
       "    <tr style=\"text-align: right;\">\n",
       "      <th></th>\n",
       "      <th>negative</th>\n",
       "      <th>positive</th>\n",
       "    </tr>\n",
       "  </thead>\n",
       "  <tbody>\n",
       "    <tr>\n",
       "      <th>negative</th>\n",
       "      <td>757</td>\n",
       "      <td>1036</td>\n",
       "    </tr>\n",
       "    <tr>\n",
       "      <th>positive</th>\n",
       "      <td>1961</td>\n",
       "      <td>17037</td>\n",
       "    </tr>\n",
       "  </tbody>\n",
       "</table>\n",
       "</div>"
      ],
      "text/plain": [
       "          negative  positive\n",
       "negative       757      1036\n",
       "positive      1961     17037"
      ]
     },
     "metadata": {},
     "output_type": "display_data"
    },
    {
     "data": {
      "image/png": "[encoded data removed]",
      "text/plain": [
       "<Figure size 600x500 with 2 Axes>"
      ]
     },
     "metadata": {},
     "output_type": "display_data"
    }
   ],
   "source": [
    "pretrained_model = api.load('glove-wiki-gigaword-50')\n",
    "vector_size = pretrained_model.vector_size \n",
    "\n",
    "df_valid_review[\"sentiment\"] = df_valid_review[\"stars\"].apply(lambda x: \"positive\" if x >= 3 else \"negative\")\n",
    "\n",
    "tokenized_reviews = df_valid_review[\"cleaned_text\"]\n",
    "def get_embedding(tokenized_review):\n",
    "    return pretrained_model.get_mean_vector(tokenized_review) if len(tokenized_review) > 0 else np.zeros(vector_size)\n",
    "\n",
    "embeddings = np.array(list(map(get_embedding, tokenized_reviews)))\n",
    "\n",
    "# adjust threshold=0.4\n",
    "def assess_model(df, X, y_column, threshold=0.4):\n",
    "    y = df[y_column] \n",
    "    X_train, X_test, y_train, y_test = train_test_split(X, y, test_size=0.2, random_state=42)\n",
    "\n",
    "\n",
    "    classifier = LogisticRegression(class_weight=\"balanced\", random_state=42)\n",
    "    classifier.fit(X_train, y_train)\n",
    "\n",
    "    y_probs = classifier.predict_proba(X_test)[:, 1]  \n",
    "    y_pred = np.where(y_probs > 0.4, \"positive\", \"negative\")   \n",
    "\n",
    "    accuracy = accuracy_score(y_test, y_pred)\n",
    "    f1 = f1_score(y_test, y_pred, pos_label=\"positive\")\n",
    "    print(f\"Accuracy: {accuracy:.4f}\")\n",
    "    print(f\"f1_score: {f1:.4f}\")\n",
    "    print(classification_report(y_test, y_pred))\n",
    "\n",
    "    cm = confusion_matrix(y_test, y_pred, labels=[\"negative\", \"positive\"])\n",
    "    df_cm = pd.DataFrame(cm, index=[\"negative\", \"positive\"], columns=[\"negative\", \"positive\"])\n",
    "    display(df_cm)\n",
    "\n",
    "    plt.figure(figsize=(6, 5))\n",
    "    sns.heatmap(df_cm, annot=True, fmt=\"d\", cmap=\"Blues\", linewidths=0.5)\n",
    "    plt.xlabel(\"Predicted\")\n",
    "    plt.ylabel(\"Actual\")\n",
    "    plt.title(\"Confusion Matrix\")\n",
    "    plt.show()\n",
    "\n",
    "# evaluate the model with treshold = 0.4\n",
    "assess_model(df_valid_review, embeddings, \"sentiment\", threshold=0.4)"
   ]
  },
  {
   "cell_type": "markdown",
   "id": "f79cfeb4-592b-464a-9d5f-aeb949a70642",
   "metadata": {},
   "source": [
    "The model's negative review recall improved significantly (0.04 → 0.42), making it much better at capturing critical feedback. While some positive reviews were misclassified as negative (recall dropped from 0.99 → 0.90), this trade-off is acceptable since identifying negative reviews is the priority. Accuracy dropped slightly (91% → 86%), but in imbalanced datasets, recall matters more than accuracy. Overall, the model is now more effective at detecting negative sentiment, aligning with the primary goal."
   ]
  }
 ],
 "metadata": {
  "environment": {
   "kernel": "conda-base-py",
   "name": "workbench-notebooks.m127",
   "type": "gcloud",
   "uri": "us-docker.pkg.dev/deeplearning-platform-release/gcr.io/workbench-notebooks:m127"
  },
  "kernelspec": {
   "display_name": "Python 3 (ipykernel) (Local)",
   "language": "python",
   "name": "conda-base-py"
  },
  "language_info": {
   "codemirror_mode": {
    "name": "ipython",
    "version": 3
   },
   "file_extension": ".py",
   "mimetype": "text/x-python",
   "name": "python",
   "nbconvert_exporter": "python",
   "pygments_lexer": "ipython3",
   "version": "3.10.16"
  }
 },
 "nbformat": 4,
 "nbformat_minor": 5
}
