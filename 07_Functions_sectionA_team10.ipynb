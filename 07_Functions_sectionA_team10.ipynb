{
 "cells": [
  {
   "cell_type": "markdown",
   "id": "bca23565-9aa6-432c-9329-d6c706540acd",
   "metadata": {},
   "source": [
    "Now that our process has been validated in previous files, it's time to apply our previous code in a way that can be applicable for the whole website.\n",
    "\n",
    "Again, for the sake of our VM, we will limit it to reviews specifically in the cafe_reviews DataFrame."
   ]
  },
  {
   "cell_type": "code",
   "execution_count": 47,
   "id": "57b5c16f-149a-43f6-b8e6-2df1011acb73",
   "metadata": {
    "tags": []
   },
   "outputs": [],
   "source": [
    "import pandas as pd\n",
    "import scipy.sparse\n",
    "from sklearn.feature_extraction.text import TfidfVectorizer\n",
    "import nltk\n",
    "from nltk.corpus import stopwords\n",
    "from nltk.tokenize.casual import TweetTokenizer\n",
    "from nltk.corpus import words\n",
    "from nltk.stem import PorterStemmer\n",
    "from sklearn.decomposition import NMF\n",
    "from textblob import TextBlob\n",
    "\n",
    "\n",
    "\n",
    "reviews = pd.read_parquet(\"cafe_reviews.parquet\")\n",
    "business = pd.read_parquet(\"business.parquet\")"
   ]
  },
  {
   "cell_type": "code",
   "execution_count": 79,
   "id": "c51512cf-fd78-489b-a91f-eb2d57183688",
   "metadata": {
    "tags": []
   },
   "outputs": [
    {
     "name": "stdout",
     "output_type": "stream",
     "text": [
      "<class 'pandas.core.frame.DataFrame'>\n",
      "Index: 978 entries, 26696 to 6986107\n",
      "Data columns (total 10 columns):\n",
      " #   Column         Non-Null Count  Dtype         \n",
      "---  ------         --------------  -----         \n",
      " 0   review_id      978 non-null    object        \n",
      " 1   business_id    978 non-null    object        \n",
      " 2   user_id        978 non-null    object        \n",
      " 3   stars          978 non-null    int64         \n",
      " 4   text           978 non-null    object        \n",
      " 5   date           978 non-null    datetime64[ns]\n",
      " 6   name           978 non-null    object        \n",
      " 7   review_count   978 non-null    float64       \n",
      " 8   yelping_since  978 non-null    object        \n",
      " 9   cafe_review    978 non-null    bool          \n",
      "dtypes: bool(1), datetime64[ns](1), float64(1), int64(1), object(6)\n",
      "memory usage: 77.4+ KB\n"
     ]
    }
   ],
   "source": [
    "reviews.info()"
   ]
  },
  {
   "cell_type": "code",
   "execution_count": 90,
   "id": "33757150-323d-4b64-abc1-6ea8480cc945",
   "metadata": {},
   "outputs": [],
   "source": [
    "def topic_model(tfidf_df):\n",
    "        num_topics = 4\n",
    "        nmf_model = NMF(n_components=num_topics, random_state=42, max_iter=500)\n",
    "        W = nmf_model.fit_transform(tfidf_df)\n",
    "        H = nmf_model.components_\n",
    "        return W, H, nmf_model"
   ]
  },
  {
   "cell_type": "code",
   "execution_count": 91,
   "id": "48223a2a-cf8a-4d17-a283-d4d8be21d68b",
   "metadata": {},
   "outputs": [],
   "source": [
    "def sent_analysis(relevant_reviews):\n",
    "    relevant_reviews[\"sentiment\"] = relevant_reviews[\"clean_text\"].apply(lambda review: TextBlob(review).sentiment.polarity)\n",
    "    relevant_reviews['Sentiment_Category'] = relevant_reviews[\"sentiment\"].apply(\n",
    "    lambda polarity: 'Positive' if polarity > 0.1 else ('Negative' if polarity < 0.05 else 'Neutral'))\n",
    "    return relevant_reviews"
   ]
  },
  {
   "cell_type": "code",
   "execution_count": 92,
   "id": "6e1f2fbc-5ce1-4572-9779-206ee394e066",
   "metadata": {
    "tags": []
   },
   "outputs": [],
   "source": [
    "def display_nmf_topics(model, feature_names, num_words=10):\n",
    "    for topic_idx, topic in enumerate(model.components_):\n",
    "        top_words = [feature_names[i] for i in topic.argsort()[:-num_words - 1:-1]]\n",
    "        print(f\"Topic {topic_idx + 1}: {', '.join(top_words)}\")"
   ]
  },
  {
   "cell_type": "code",
   "execution_count": 96,
   "id": "592e8e71-ee2a-493f-bcdf-f0d208085094",
   "metadata": {},
   "outputs": [],
   "source": [
    "english_words = set(words.words())\n",
    "stop_words = set(stopwords.words('english'))\n",
    "\n",
    "def get_relevant_review(business_id, preference):\n",
    "    business_reviews = reviews[reviews[\"business_id\"] == business_id]\n",
    "    if business_reviews.empty:\n",
    "        return \"No reviews found for this business.\"\n",
    "    \n",
    "    else:\n",
    "        # tokenizing preference statement and business reviews.\n",
    "        business_reviews = business_reviews.copy()\n",
    "        business_reviews[\"lower_text\"] = business_reviews.loc[:,\"text\"].str.lower()\n",
    "        review_prep = business_reviews[[\"lower_text\"]]\n",
    "        preference = preference.lower()\n",
    "        casual_tknzr = TweetTokenizer(reduce_len=True)\n",
    "        review_tokenized = [casual_tknzr.tokenize(t) for t in business_reviews['text']] \n",
    "        pref_tokens = [casual_tknzr.tokenize(preference)]\n",
    "        token_txt_filtered = [[word for word in sentence if word.lower() not in stop_words and word.lower() \n",
    "                               in english_words] for sentence in review_tokenized]\n",
    "        \n",
    "        # vectorization \n",
    "        review_prep = review_prep.copy()\n",
    "        review_prep[\"clean_text\"] = [\" \".join(sentence) for sentence in token_txt_filtered]\n",
    "        pref_prep = [\" \".join(word) for word in pref_tokens]\n",
    "        tfidf_model = TfidfVectorizer()\n",
    "        df_tfidf_transformed = tfidf_model.fit_transform(review_prep[\"clean_text\"])\n",
    "        pref_trans = tfidf_model.transform(pref_prep)\n",
    "        \n",
    "        # topic modeling + matching preference to appropriate topic\n",
    "        W, H, nmf_model = topic_model(df_tfidf_transformed)\n",
    "        print(\"Top words per topic in NMF:\")    # inputting to make sure topics make sense\n",
    "        display_nmf_topics(nmf_model, tfidf_model.get_feature_names_out())\n",
    "        review_prep[\"dominant_topic\"] = W.argmax(axis=1)\n",
    "        pref_topics = nmf_model.transform(pref_trans)\n",
    "        most_relevant_topic = pref_topics.argmax()\n",
    "        relevant_reviews = review_prep[review_prep[\"dominant_topic\"]==most_relevant_topic]\n",
    "                     \n",
    "        # sentiment analysis\n",
    "        relevant_reviews_sent = sent_analysis(relevant_reviews.copy())\n",
    "        sentiment_ratio = relevant_reviews_sent[\"Sentiment_Category\"].value_counts()\n",
    "        dominant_sentiment = sentiment_ratio.idxmax().lower()\n",
    "        print(f\"Reviews most related to your profile preference ({most_relevant_topic + 1}) for this business are mostly {dominant_sentiment}.\")\n",
    "                     \n",
    "        # presenting the most relevant review\n",
    "        needed_text = business_reviews[business_reviews[\"lower_text\"].isin(relevant_reviews_sent[\"lower_text\"])]\n",
    "        if dominant_sentiment == 'positive':\n",
    "            positive_reviews = needed_text[needed_text[\"stars\"] > 2]\n",
    "            given_reviews = positive_reviews.sort_values(\"review_count\", ascending=False).iloc[0:10]\n",
    "            most_recent_review = given_reviews[given_reviews[\"date\"]==given_reviews[\"date\"].max()]\n",
    "            the_review = business_reviews[business_reviews[\"lower_text\"].isin(most_recent_review[\"lower_text\"])][\"text\"]\n",
    "        \n",
    "        elif dominant_sentiment == 'negative':\n",
    "            negative_reviews = needed_text[needed_text[\"stars\"] < 3]\n",
    "            given_reviews = negative_reviews.sort_values(\"review_count\", ascending=False).iloc[0:10]\n",
    "            most_recent_review = given_reviews[given_reviews[\"date\"]==given_reviews[\"date\"].max()]\n",
    "            the_review = business_reviews[business_reviews[\"lower_text\"].isin(most_recent_review[\"lower_text\"])][\"text\"]\n",
    "        \n",
    "        else:\n",
    "            neutral_reviews = needed_text[(needed_text[\"stars\"] > 1) & (needed_text[\"stars\"] < 4)]\n",
    "            given_reviews = neutral_reviews.sort_values(\"review_count\", ascending=False).iloc[0:10]\n",
    "            most_recent_review = needed_text[needed_text[\"date\"]==needed_text[\"date\"].max()]\n",
    "            the_review = business_reviews[business_reviews[\"lower_text\"].isin(most_recent_review[\"lower_text\"])][\"text\"]\n",
    "        return print('\\nHere is the most relevant review for you: \\n \\n' + the_review.iloc[0])"
   ]
  },
  {
   "cell_type": "code",
   "execution_count": 100,
   "id": "01f7cf83-0216-408a-89a0-9eabec3ed1ea",
   "metadata": {
    "tags": []
   },
   "outputs": [
    {
     "name": "stdout",
     "output_type": "stream",
     "text": [
      "Top words per topic in NMF:\n",
      "Topic 1: coffee, good, day, location, pretty, staff, though, busy, even, best\n",
      "Topic 2: drink, order, time, get, said, milk, always, go, ever, went\n",
      "Topic 3: great, service, super, people, slow, friendly, everyone, fantastic, sometimes, rude\n",
      "Topic 4: canal, place, one, street, st, like, seating, clean, new, location\n",
      "Reviews most related to your profile preference (1) for this business are mostly positive.\n",
      "\n",
      "Here is the most relevant review for you: \n",
      " \n",
      "We stopped in two times to grab tea/water and use the bathroom. The staff is very nice and the store is clean and well stocked. The women's restroom was down and had to use the men's which needed a bit of cleaning. Good location for a pop up wedding parade as well as we saw one each day.\n"
     ]
    }
   ],
   "source": [
    "get_relevant_review(\"5qVG7T82jRnKGR9O7_0cFw\", \"I prefer a good location.\")"
   ]
  },
  {
   "cell_type": "markdown",
   "id": "91c9ba85-25ca-4ce1-a654-ea6dc0172f0a",
   "metadata": {},
   "source": [
    "What if you care about the quality of drinks?"
   ]
  },
  {
   "cell_type": "code",
   "execution_count": 101,
   "id": "60e90156-f9ef-43ed-8a50-3391675bae30",
   "metadata": {
    "tags": []
   },
   "outputs": [
    {
     "name": "stdout",
     "output_type": "stream",
     "text": [
      "Top words per topic in NMF:\n",
      "Topic 1: coffee, good, day, location, pretty, staff, though, busy, even, best\n",
      "Topic 2: drink, order, time, get, said, milk, always, go, ever, went\n",
      "Topic 3: great, service, super, people, slow, friendly, everyone, fantastic, sometimes, rude\n",
      "Topic 4: canal, place, one, street, st, like, seating, clean, new, location\n",
      "Reviews most related to your profile preference (2) for this business are mostly negative.\n",
      "\n",
      "Here is the most relevant review for you: \n",
      " \n",
      "The WORSE SERVICE EVER if you drink Starbucks then you know the mixes and you know when the baristas do not have the mix right it so we're coming from LA long travels right soooo happy to see SB go in order a drink and it taste SOUR so I ask if we can just change the drink because it's not a mix the person doesn't know how to fix it and instead they try to argue me down so they turn around and make the first one over I give it to the other person in my party it's is still not right I told them thank but no I don't want that drink if it's not right end of story we walk out spending 12 no refund and drinks in trash HORRIBLE I WOULD HAVE JUST GAVE THEM THE MONEY IF THEY NEEDED IT just don't go there I should have seen the red flags the window was broken out enough said\n"
     ]
    }
   ],
   "source": [
    "get_relevant_review(\"5qVG7T82jRnKGR9O7_0cFw\", \"I want tasty drinks.\")"
   ]
  },
  {
   "cell_type": "markdown",
   "id": "cbafb368-c935-4f05-b19c-472e0f832ffc",
   "metadata": {},
   "source": [
    "It seems the different topic paints a very different picture of the Starbucks we are currently analyzing.\n",
    "\n",
    "To see if our code is reproducible, we apply it to different industries."
   ]
  },
  {
   "cell_type": "code",
   "execution_count": 102,
   "id": "924d9f05-cfab-4b68-bdbc-467a7cb9f314",
   "metadata": {
    "tags": []
   },
   "outputs": [],
   "source": [
    "reviews = pd.read_parquet(\"reviews2.parquet\")\n",
    "users = pd.read_parquet(\"users2.parquet\")\n",
    "reviews = reviews.merge(users, on='user_id', how='left', suffixes = ['_review', '_user'])"
   ]
  },
  {
   "cell_type": "code",
   "execution_count": 103,
   "id": "347945ea-5522-4583-876d-8439aec56965",
   "metadata": {
    "tags": []
   },
   "outputs": [],
   "source": [
    "tattoo_b = business[business[\"categories\"].str.contains(\"Tattoo\", case = False, na = False)]"
   ]
  },
  {
   "cell_type": "code",
   "execution_count": 104,
   "id": "cea2ed11-1e22-4757-91cd-b92cd42f7db1",
   "metadata": {
    "tags": []
   },
   "outputs": [],
   "source": [
    "tattoo_reviews = reviews[reviews[\"business_id\"].isin(tattoo_b[\"business_id\"])]"
   ]
  },
  {
   "cell_type": "code",
   "execution_count": 105,
   "id": "3ebd39c4-0393-4e6e-9bf2-bf9a4ffe8786",
   "metadata": {
    "tags": []
   },
   "outputs": [
    {
     "data": {
      "text/plain": [
       "business_id\n",
       "i7_3lQzM5SP8Cc2YT-X3BA    420\n",
       "AsPwZ_T0_eJrKbr-hAqqMw    391\n",
       "JJt2xm-_1pIbtB6H8-f0Dw    362\n",
       "QPh2o_h5nVN2_xY7CEM0ug    347\n",
       "y_4wb-Kds_cvdTlYeWYMdA    261\n",
       "                         ... \n",
       "7iJDafOK6yate0J4DV6AvQ      5\n",
       "iW3CDR5W6loaYH7yOIM0Zw      5\n",
       "XCGJsUwRmL8U-OoUABf3qg      5\n",
       "qU1zyJadUoblMK84KuN1gQ      5\n",
       "FCx-ClnmgHlxqHGCONMEZw      5\n",
       "Name: count, Length: 672, dtype: int64"
      ]
     },
     "execution_count": 105,
     "metadata": {},
     "output_type": "execute_result"
    }
   ],
   "source": [
    "tattoo_reviews[\"business_id\"].value_counts()"
   ]
  },
  {
   "cell_type": "code",
   "execution_count": 110,
   "id": "0d625515-d04d-4b24-b4ae-60eab802535e",
   "metadata": {
    "tags": []
   },
   "outputs": [
    {
     "name": "stdout",
     "output_type": "stream",
     "text": [
      "Top words per topic in NMF:\n",
      "Topic 1: piercing, got, pierced, made, went, super, experience, get, process, done\n",
      "Topic 2: place, professional, clean, friendly, go, recommend, knowledgeable, infinite, staff, piercing\n",
      "Topic 3: infinite, piercing, get, jewelry, people, one, back, like, go, time\n",
      "Topic 4: great, jewelry, selection, shop, definitely, helpful, also, staff, friendly, experience\n",
      "Reviews most related to your profile preference (1) for this business are mostly positive.\n",
      "\n",
      "Here is the most relevant review for you: \n",
      " \n",
      "I got several piercings done by guest piercer Jerry and really enjoyed the experience! I set up my appointment quickly and easily using their online system. I called prior to my appointment with a few questions which were answered promptly by the staff. Upon arriving I checked in and had my temperature taken and then was able to ask a few more specific questions to my piercer. We discussed my eligibility based on my anatomy and selected the jewelry before getting started. During the process he explained everything he was doing, which I greatly appreciated. He was very experienced and also took time to build a personal connection and make me feel safe and comfortable. He pierced quickly and efficiently and involved me in the entire process. His warm, open personality really made it a great experience. This is the only place I'll be getting pierced from now on.\n"
     ]
    }
   ],
   "source": [
    "get_relevant_review(\"i7_3lQzM5SP8Cc2YT-X3BA\",\"I want a calm experience\")"
   ]
  },
  {
   "cell_type": "code",
   "execution_count": 111,
   "id": "0d0c2677-6be5-4534-8010-7cd135300ea9",
   "metadata": {
    "tags": []
   },
   "outputs": [
    {
     "name": "stdout",
     "output_type": "stream",
     "text": [
      "Top words per topic in NMF:\n",
      "Topic 1: piercing, got, pierced, made, went, super, experience, get, process, done\n",
      "Topic 2: place, professional, clean, friendly, go, recommend, knowledgeable, infinite, staff, piercing\n",
      "Topic 3: infinite, piercing, get, jewelry, people, one, back, like, go, time\n",
      "Topic 4: great, jewelry, selection, shop, definitely, helpful, also, staff, friendly, experience\n",
      "Reviews most related to your profile preference (2) for this business are mostly positive.\n",
      "\n",
      "Here is the most relevant review for you: \n",
      " \n",
      "This place was great. Front desk staff amiable and informed.  My piercer John was extremely well-versed and versatile, and was able to pierce my ear in the exact, unusual area I wanted him to - he told me to tell him exactly where I wanted to get pierced and said we'd work from there, and he made it work.  The place is clean, though in the midst of a renovation (the place does need a little extra loving)  Pricing was reasonable, and they had a good selection of jewelry.  I was probably the oldest in the place by twenty years, but no one even blinked twice when I had to show my ID.\n"
     ]
    }
   ],
   "source": [
    "get_relevant_review(\"i7_3lQzM5SP8Cc2YT-X3BA\",\"I would like a knowledgeable staff member\")"
   ]
  },
  {
   "cell_type": "markdown",
   "id": "1ced1488-59f8-47fd-a6db-b2d46d57280f",
   "metadata": {},
   "source": [
    "Lastly, let's try hotels."
   ]
  },
  {
   "cell_type": "code",
   "execution_count": 112,
   "id": "d6d97383-81da-4826-8eb6-653c16fb86ef",
   "metadata": {
    "tags": []
   },
   "outputs": [
    {
     "data": {
      "text/plain": [
       "business_id\n",
       "wz8ZPfySQczcPgSyd33-HQ    3634\n",
       "PY9GRfzr4nTZeINf346QOw    2715\n",
       "-QI8Qi8XWH3D8y8ethnajA    2235\n",
       "c_4c5rJECZSfNgFj7frwHQ    1896\n",
       "Eb1XmmLWyt_way5NNZ7-Pw    1850\n",
       "                          ... \n",
       "UCDghhOm9vMk3HS6ObV85w       5\n",
       "RjHTlFGxb_GHooFFBZ-jYQ       5\n",
       "8N4moq96N16VxvlwSq4i5Q       5\n",
       "mMnsoqPeg7b0lBtE37r0aw       5\n",
       "XPkkWyAkkPeH-PqXmBMmpg       5\n",
       "Name: count, Length: 5858, dtype: int64"
      ]
     },
     "execution_count": 112,
     "metadata": {},
     "output_type": "execute_result"
    }
   ],
   "source": [
    "hotel_b = business[business[\"categories\"].str.contains(\"Hotel\", case = False, na = False)]\n",
    "hotel_reviews = reviews[reviews[\"business_id\"].isin(hotel_b[\"business_id\"])]\n",
    "hotel_reviews[\"business_id\"].value_counts()"
   ]
  },
  {
   "cell_type": "code",
   "execution_count": 129,
   "id": "61bee395-f22f-4228-a45e-5cd8538d9fa2",
   "metadata": {
    "tags": []
   },
   "outputs": [
    {
     "name": "stdout",
     "output_type": "stream",
     "text": [
      "Top words per topic in NMF:\n",
      "Topic 1: us, get, told, said, front, desk, would, back, service, check\n",
      "Topic 2: casino, nice, pool, bowling, hotel, free, good, like, really, resort\n",
      "Topic 3: room, bed, floor, hotel, king, clean, smoking, night, stay, shower\n",
      "Topic 4: great, love, place, always, staff, clean, friendly, stay, food, service\n",
      "Reviews most related to your profile preference (3) for this business are mostly positive.\n",
      "\n",
      "Here is the most relevant review for you: \n",
      " \n",
      "Recently stayed here again as my family were visiting and had a very early flight out the next day. I am not much of a player here but even then, it was easy to score a free room a few days away. The bell boy who brought up a mountain of luggage was super helpful and scored extra water bottles and blankets for us (by the way, they do not give out extra comforters, just blankets). \n",
      "\n",
      "We got a Summit room on the 21st floor (I think), so it was fun to watch the mountains change colors at sunset. There was a $25 resort fee which we were fine with paying as there were 4 of us using wifi devices and my niece had a blast in the pool downstairs. Not bad considering the room was free.\n",
      "\n",
      "It was cute - we told the check-in agent that my niece was starting her very own collection of hotel keys, so she gave her one of the VIP card keys that was uncoded and didn't work. That made her very happy.\n",
      "\n",
      "Shuttles to the airport start very early in the morning. Tip your hotel staff well.\n"
     ]
    }
   ],
   "source": [
    "get_relevant_review(\"wz8ZPfySQczcPgSyd33-HQ\",\"I want a good bed\")"
   ]
  },
  {
   "cell_type": "code",
   "execution_count": 128,
   "id": "eaf38155-0b0c-4866-a5ab-15f4af137276",
   "metadata": {
    "tags": []
   },
   "outputs": [
    {
     "name": "stdout",
     "output_type": "stream",
     "text": [
      "Top words per topic in NMF:\n",
      "Topic 1: us, get, told, said, front, desk, would, back, service, check\n",
      "Topic 2: casino, nice, pool, bowling, hotel, free, good, like, really, resort\n",
      "Topic 3: room, bed, floor, hotel, king, clean, smoking, night, stay, shower\n",
      "Topic 4: great, love, place, always, staff, clean, friendly, stay, food, service\n",
      "Reviews most related to your profile preference (4) for this business are mostly positive.\n",
      "\n",
      "Here is the most relevant review for you: \n",
      " \n",
      "Top notch staff. Starbuck full on .. Great big rooms, great pool, great fun stuff, casino, salon, bowling you name it you got here and a bus stop We like to take the bus around town. Great sight seeing\n"
     ]
    }
   ],
   "source": [
    "get_relevant_review(\"wz8ZPfySQczcPgSyd33-HQ\",\"I like helpful casino staff\")"
   ]
  },
  {
   "cell_type": "code",
   "execution_count": null,
   "id": "1412c0fa-5f6a-408c-ae36-d664cbb6ef04",
   "metadata": {},
   "outputs": [],
   "source": []
  }
 ],
 "metadata": {
  "environment": {
   "kernel": "conda-base-py",
   "name": "workbench-notebooks.m127",
   "type": "gcloud",
   "uri": "us-docker.pkg.dev/deeplearning-platform-release/gcr.io/workbench-notebooks:m127"
  },
  "kernelspec": {
   "display_name": "Python 3 (ipykernel) (Local)",
   "language": "python",
   "name": "conda-base-py"
  },
  "language_info": {
   "codemirror_mode": {
    "name": "ipython",
    "version": 3
   },
   "file_extension": ".py",
   "mimetype": "text/x-python",
   "name": "python",
   "nbconvert_exporter": "python",
   "pygments_lexer": "ipython3",
   "version": "3.10.16"
  }
 },
 "nbformat": 4,
 "nbformat_minor": 5
}
