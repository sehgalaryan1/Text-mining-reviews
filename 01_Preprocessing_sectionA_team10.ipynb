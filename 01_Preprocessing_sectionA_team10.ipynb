{
 "cells": [
  {
   "cell_type": "markdown",
   "id": "3448a621-8bca-4020-9f38-b70a24805d05",
   "metadata": {},
   "source": [
    "The files we plan to use total about 8.65 gigabytes in file size. Our first step then, is to convert the larger JSON files into something more computationally efficient."
   ]
  },
  {
   "cell_type": "code",
   "execution_count": 1,
   "id": "16ef13c3-1325-4991-9ee1-b5a6d9ba0f56",
   "metadata": {
    "tags": []
   },
   "outputs": [],
   "source": [
    "#!gsutil cp -r \"gs://ba820-project/Yelp JSON\" data\n",
    "#!tar -xvf data/'Yelp JSON'/yelp_dataset.tar   Extracting tar file to retrieve JSONs."
   ]
  },
  {
   "cell_type": "code",
   "execution_count": 1,
   "id": "d1373b2f-e420-4cb7-a738-b04ecd549976",
   "metadata": {},
   "outputs": [],
   "source": [
    "import pandas as pd\n",
    "business_df = pd.read_json(\"yelp_academic_dataset_business.json\", lines = True)  # business.json is small, so no need to convert to parquet.\n",
    "\n",
    "def slow_read(json_path):  # to keep our kernel from dying, we break the json into pieces to avoid overwhelming the VM. See AI appendix.\n",
    "    dfs = []\n",
    "    chunk_size = 100000\n",
    "    for chunk in pd.read_json(json_path, lines=True, chunksize=chunk_size):\n",
    "        dfs.append(chunk)\n",
    "    new_df = pd.concat(dfs, ignore_index=True)\n",
    "    return new_df\n",
    "users_df = slow_read(\"yelp_academic_dataset_user.json\")\n",
    "reviews_df = slow_read(\"yelp_academic_dataset_review.json\")\n",
    "users_df.to_parquet(\"users.parquet\")  # from this point forward in our analysis, we will use parquet files in place of the larger JSONs.\n",
    "reviews_df.to_parquet(\"reviews.parquet\")"
   ]
  },
  {
   "cell_type": "markdown",
   "id": "407bab6a-efe5-4d80-ba2b-d35be84ce88c",
   "metadata": {},
   "source": [
    "Now the files we are using total to about 5 GBs in file size. This is much more manageable for our VM and will prevent it from crashing by simply loading it.\n",
    "\n",
    "After that, it's time to explore the data and determine if anything needs further processing. First, the users file."
   ]
  },
  {
   "cell_type": "code",
   "execution_count": null,
   "id": "628f75fa-2d40-4df0-af5d-7ef76fead646",
   "metadata": {
    "tags": []
   },
   "outputs": [],
   "source": [
    "import pandas as pd  # writing again to avoid running the above block\n",
    "def df_basic_info(df):\n",
    "    print(f'This dataframe has {df.shape[0]} rows.')\n",
    "    print(f'This dataframe has {df.isnull().sum().sum()} null values.')\n",
    "    return df.head(1)\n",
    "\n",
    "users = pd.read_parquet(\"users.parquet\")\n",
    "df_basic_info(users)"
   ]
  },
  {
   "cell_type": "code",
   "execution_count": null,
   "id": "78a2c1f8-5369-44df-aa19-e1d4e2a0e545",
   "metadata": {
    "tags": []
   },
   "outputs": [],
   "source": [
    "reviews = pd.read_parquet(\"reviews.parquet\")\n",
    "df_basic_info(reviews)"
   ]
  },
  {
   "cell_type": "code",
   "execution_count": 6,
   "id": "d721e7cd-782e-4226-90ab-9104b6d5f35b",
   "metadata": {
    "tags": []
   },
   "outputs": [
    {
     "name": "stdout",
     "output_type": "stream",
     "text": [
      "This dataframe has 150346 rows.\n",
      "This dataframe has 37070 null values.\n"
     ]
    },
    {
     "data": {
      "text/html": [
       "<div>\n",
       "<style scoped>\n",
       "    .dataframe tbody tr th:only-of-type {\n",
       "        vertical-align: middle;\n",
       "    }\n",
       "\n",
       "    .dataframe tbody tr th {\n",
       "        vertical-align: top;\n",
       "    }\n",
       "\n",
       "    .dataframe thead th {\n",
       "        text-align: right;\n",
       "    }\n",
       "</style>\n",
       "<table border=\"1\" class=\"dataframe\">\n",
       "  <thead>\n",
       "    <tr style=\"text-align: right;\">\n",
       "      <th></th>\n",
       "      <th>business_id</th>\n",
       "      <th>name</th>\n",
       "      <th>address</th>\n",
       "      <th>city</th>\n",
       "      <th>state</th>\n",
       "      <th>postal_code</th>\n",
       "      <th>latitude</th>\n",
       "      <th>longitude</th>\n",
       "      <th>stars</th>\n",
       "      <th>review_count</th>\n",
       "      <th>is_open</th>\n",
       "      <th>attributes</th>\n",
       "      <th>categories</th>\n",
       "      <th>hours</th>\n",
       "    </tr>\n",
       "  </thead>\n",
       "  <tbody>\n",
       "    <tr>\n",
       "      <th>0</th>\n",
       "      <td>Pns2l4eNsfO8kk83dixA6A</td>\n",
       "      <td>Abby Rappoport, LAC, CMQ</td>\n",
       "      <td>1616 Chapala St, Ste 2</td>\n",
       "      <td>Santa Barbara</td>\n",
       "      <td>CA</td>\n",
       "      <td>93101</td>\n",
       "      <td>34.426679</td>\n",
       "      <td>-119.711197</td>\n",
       "      <td>5.0</td>\n",
       "      <td>7</td>\n",
       "      <td>0</td>\n",
       "      <td>{'ByAppointmentOnly': 'True'}</td>\n",
       "      <td>Doctors, Traditional Chinese Medicine, Naturop...</td>\n",
       "      <td>None</td>\n",
       "    </tr>\n",
       "  </tbody>\n",
       "</table>\n",
       "</div>"
      ],
      "text/plain": [
       "              business_id                      name                 address  \\\n",
       "0  Pns2l4eNsfO8kk83dixA6A  Abby Rappoport, LAC, CMQ  1616 Chapala St, Ste 2   \n",
       "\n",
       "            city state postal_code   latitude   longitude  stars  \\\n",
       "0  Santa Barbara    CA       93101  34.426679 -119.711197    5.0   \n",
       "\n",
       "   review_count  is_open                     attributes  \\\n",
       "0             7        0  {'ByAppointmentOnly': 'True'}   \n",
       "\n",
       "                                          categories hours  \n",
       "0  Doctors, Traditional Chinese Medicine, Naturop...  None  "
      ]
     },
     "execution_count": 6,
     "metadata": {},
     "output_type": "execute_result"
    }
   ],
   "source": [
    "business = pd.read_json(\"yelp_academic_dataset_business.json\", lines = True)\n",
    "df_basic_info(business)"
   ]
  },
  {
   "cell_type": "markdown",
   "id": "df57c8e5-fbe0-44c6-82c8-84b9139b8555",
   "metadata": {},
   "source": [
    "The smallest file we will use is the only one with null values. Let's investigate further."
   ]
  },
  {
   "cell_type": "code",
   "execution_count": 7,
   "id": "f17a0941-3a44-4ec0-82ea-d11856ccd072",
   "metadata": {
    "tags": []
   },
   "outputs": [
    {
     "data": {
      "text/plain": [
       "business_id         0\n",
       "name                0\n",
       "address             0\n",
       "city                0\n",
       "state               0\n",
       "postal_code         0\n",
       "latitude            0\n",
       "longitude           0\n",
       "stars               0\n",
       "review_count        0\n",
       "is_open             0\n",
       "attributes      13744\n",
       "categories        103\n",
       "hours           23223\n",
       "dtype: int64"
      ]
     },
     "execution_count": 7,
     "metadata": {},
     "output_type": "execute_result"
    }
   ],
   "source": [
    "business.isnull().sum()"
   ]
  },
  {
   "cell_type": "markdown",
   "id": "7612db0d-41e1-40c7-b595-b84e026b28f9",
   "metadata": {},
   "source": [
    "It seems they are all within three features: attributes, categories, and hours.\n",
    "\n",
    "Attributes refers to amenities that a business might have (Free WiFi, bathrooms, etc.).\n",
    "Categories refers to common traits businesses on Yelp might have. This is used to group businesses.\n",
    "Hours refers to the operating hours of the business.\n",
    "\n",
    "None of these have a strong influence on the focus of our analysis: the content of reviews. However, categories could be helpful in subsetting businesses later in our analysis. Therefore, we will ignore these null values of attributes and hours. Regarding the 103 businesses missing a category, we will drop the rows in the business DataFrame and review DataFrame with corresponding business_id's."
   ]
  },
  {
   "cell_type": "code",
   "execution_count": 8,
   "id": "840d2627-86f1-4fe1-acc2-5b1a4605356e",
   "metadata": {
    "tags": []
   },
   "outputs": [],
   "source": [
    "null_bid = list(business[business[\"categories\"].isna()][\"business_id\"])"
   ]
  },
  {
   "cell_type": "code",
   "execution_count": 9,
   "id": "e7777674-46cf-4bf9-aa32-63555eb7832d",
   "metadata": {
    "tags": []
   },
   "outputs": [
    {
     "name": "stdout",
     "output_type": "stream",
     "text": [
      "The original dataframe has 6990280 rows.\n",
      "The new dataframe has 6989591 rows.\n",
      "689 reviews were dropped.\n"
     ]
    }
   ],
   "source": [
    "print(f'The original dataframe has {reviews.shape[0]} rows.')\n",
    "filtered_reviews = reviews[~reviews[\"business_id\"].isin(null_bid)]\n",
    "print(f'The new dataframe has {filtered_reviews.shape[0]} rows.')\n",
    "print(f'{reviews.shape[0]-filtered_reviews.shape[0]} reviews were dropped.')"
   ]
  },
  {
   "cell_type": "code",
   "execution_count": 10,
   "id": "730130ad-a144-4048-ba30-033c0e1515f0",
   "metadata": {
    "tags": []
   },
   "outputs": [],
   "source": [
    "filtered_business = business[~business[\"business_id\"].isin(null_bid)]  # we drop 103 businesses out of 150346."
   ]
  },
  {
   "cell_type": "code",
   "execution_count": 11,
   "id": "2fbff953-704f-46a0-ac1e-d839a951e678",
   "metadata": {
    "tags": []
   },
   "outputs": [],
   "source": [
    "filtered_reviews.to_parquet(\"reviews2.parquet\")"
   ]
  },
  {
   "cell_type": "markdown",
   "id": "e66d1d04-adfd-4830-aa73-18170e1cb5be",
   "metadata": {},
   "source": [
    "Another way we can filter down our files is by dropping rows in the business and user DataFrames with no reviews. These rows wouldn't be useful in our analysis and therefore are just taking up space."
   ]
  },
  {
   "cell_type": "code",
   "execution_count": 12,
   "id": "52a5a36c-f9bc-46d6-a688-b288cd2562b1",
   "metadata": {
    "tags": []
   },
   "outputs": [],
   "source": [
    "filtered_business[filtered_business[\"review_count\"]==0]  # there are no reviewless businesses.\n",
    "filtered_business.to_parquet(\"business.parquet\")"
   ]
  },
  {
   "cell_type": "code",
   "execution_count": 13,
   "id": "f00a3c8d-beb7-4403-81ec-aadf90bd6cac",
   "metadata": {
    "tags": []
   },
   "outputs": [],
   "source": [
    "users = users[users[\"review_count\"]!=0].copy()"
   ]
  },
  {
   "cell_type": "code",
   "execution_count": 14,
   "id": "404dc2ee-2f7e-4bfb-99c4-2bf35ec3c942",
   "metadata": {
    "tags": []
   },
   "outputs": [
    {
     "name": "stdout",
     "output_type": "stream",
     "text": [
      "54 users with no reviews were dropped.\n"
     ]
    }
   ],
   "source": [
    "print(f'{1987897 - users.shape[0]} users with no reviews were dropped.')"
   ]
  },
  {
   "cell_type": "code",
   "execution_count": 15,
   "id": "6f628fe0-2834-45dc-8079-631c90529386",
   "metadata": {
    "tags": []
   },
   "outputs": [],
   "source": [
    "users.to_parquet(\"users2.parquet\")"
   ]
  },
  {
   "cell_type": "markdown",
   "id": "1220552d-5bc1-4df3-ab6e-bc4d6006c021",
   "metadata": {},
   "source": [
    "We'll use reviews2.parquet, users2.parquet, and business.parquet in our EDA and beyond."
   ]
  },
  {
   "cell_type": "code",
   "execution_count": 16,
   "id": "da1a83a2-c970-4195-bf24-8f505b9d5c79",
   "metadata": {
    "tags": []
   },
   "outputs": [
    {
     "data": {
      "text/html": [
       "<div>\n",
       "<style scoped>\n",
       "    .dataframe tbody tr th:only-of-type {\n",
       "        vertical-align: middle;\n",
       "    }\n",
       "\n",
       "    .dataframe tbody tr th {\n",
       "        vertical-align: top;\n",
       "    }\n",
       "\n",
       "    .dataframe thead th {\n",
       "        text-align: right;\n",
       "    }\n",
       "</style>\n",
       "<table border=\"1\" class=\"dataframe\">\n",
       "  <thead>\n",
       "    <tr style=\"text-align: right;\">\n",
       "      <th></th>\n",
       "      <th>business_id</th>\n",
       "      <th>name</th>\n",
       "      <th>address</th>\n",
       "      <th>city</th>\n",
       "      <th>state</th>\n",
       "      <th>postal_code</th>\n",
       "      <th>latitude</th>\n",
       "      <th>longitude</th>\n",
       "      <th>stars</th>\n",
       "      <th>review_count</th>\n",
       "      <th>is_open</th>\n",
       "      <th>attributes</th>\n",
       "      <th>categories</th>\n",
       "      <th>hours</th>\n",
       "    </tr>\n",
       "  </thead>\n",
       "  <tbody>\n",
       "    <tr>\n",
       "      <th>0</th>\n",
       "      <td>Pns2l4eNsfO8kk83dixA6A</td>\n",
       "      <td>Abby Rappoport, LAC, CMQ</td>\n",
       "      <td>1616 Chapala St, Ste 2</td>\n",
       "      <td>Santa Barbara</td>\n",
       "      <td>CA</td>\n",
       "      <td>93101</td>\n",
       "      <td>34.426679</td>\n",
       "      <td>-119.711197</td>\n",
       "      <td>5.0</td>\n",
       "      <td>7</td>\n",
       "      <td>0</td>\n",
       "      <td>{'ByAppointmentOnly': 'True'}</td>\n",
       "      <td>Doctors, Traditional Chinese Medicine, Naturop...</td>\n",
       "      <td>None</td>\n",
       "    </tr>\n",
       "    <tr>\n",
       "      <th>1</th>\n",
       "      <td>mpf3x-BjTdTEA3yCZrAYPw</td>\n",
       "      <td>The UPS Store</td>\n",
       "      <td>87 Grasso Plaza Shopping Center</td>\n",
       "      <td>Affton</td>\n",
       "      <td>MO</td>\n",
       "      <td>63123</td>\n",
       "      <td>38.551126</td>\n",
       "      <td>-90.335695</td>\n",
       "      <td>3.0</td>\n",
       "      <td>15</td>\n",
       "      <td>1</td>\n",
       "      <td>{'BusinessAcceptsCreditCards': 'True'}</td>\n",
       "      <td>Shipping Centers, Local Services, Notaries, Ma...</td>\n",
       "      <td>{'Monday': '0:0-0:0', 'Tuesday': '8:0-18:30', ...</td>\n",
       "    </tr>\n",
       "    <tr>\n",
       "      <th>2</th>\n",
       "      <td>tUFrWirKiKi_TAnsVWINQQ</td>\n",
       "      <td>Target</td>\n",
       "      <td>5255 E Broadway Blvd</td>\n",
       "      <td>Tucson</td>\n",
       "      <td>AZ</td>\n",
       "      <td>85711</td>\n",
       "      <td>32.223236</td>\n",
       "      <td>-110.880452</td>\n",
       "      <td>3.5</td>\n",
       "      <td>22</td>\n",
       "      <td>0</td>\n",
       "      <td>{'BikeParking': 'True', 'BusinessAcceptsCredit...</td>\n",
       "      <td>Department Stores, Shopping, Fashion, Home &amp; G...</td>\n",
       "      <td>{'Monday': '8:0-22:0', 'Tuesday': '8:0-22:0', ...</td>\n",
       "    </tr>\n",
       "    <tr>\n",
       "      <th>3</th>\n",
       "      <td>MTSW4McQd7CbVtyjqoe9mw</td>\n",
       "      <td>St Honore Pastries</td>\n",
       "      <td>935 Race St</td>\n",
       "      <td>Philadelphia</td>\n",
       "      <td>PA</td>\n",
       "      <td>19107</td>\n",
       "      <td>39.955505</td>\n",
       "      <td>-75.155564</td>\n",
       "      <td>4.0</td>\n",
       "      <td>80</td>\n",
       "      <td>1</td>\n",
       "      <td>{'RestaurantsDelivery': 'False', 'OutdoorSeati...</td>\n",
       "      <td>Restaurants, Food, Bubble Tea, Coffee &amp; Tea, B...</td>\n",
       "      <td>{'Monday': '7:0-20:0', 'Tuesday': '7:0-20:0', ...</td>\n",
       "    </tr>\n",
       "    <tr>\n",
       "      <th>4</th>\n",
       "      <td>mWMc6_wTdE0EUBKIGXDVfA</td>\n",
       "      <td>Perkiomen Valley Brewery</td>\n",
       "      <td>101 Walnut St</td>\n",
       "      <td>Green Lane</td>\n",
       "      <td>PA</td>\n",
       "      <td>18054</td>\n",
       "      <td>40.338183</td>\n",
       "      <td>-75.471659</td>\n",
       "      <td>4.5</td>\n",
       "      <td>13</td>\n",
       "      <td>1</td>\n",
       "      <td>{'BusinessAcceptsCreditCards': 'True', 'Wheelc...</td>\n",
       "      <td>Brewpubs, Breweries, Food</td>\n",
       "      <td>{'Wednesday': '14:0-22:0', 'Thursday': '16:0-2...</td>\n",
       "    </tr>\n",
       "  </tbody>\n",
       "</table>\n",
       "</div>"
      ],
      "text/plain": [
       "              business_id                      name  \\\n",
       "0  Pns2l4eNsfO8kk83dixA6A  Abby Rappoport, LAC, CMQ   \n",
       "1  mpf3x-BjTdTEA3yCZrAYPw             The UPS Store   \n",
       "2  tUFrWirKiKi_TAnsVWINQQ                    Target   \n",
       "3  MTSW4McQd7CbVtyjqoe9mw        St Honore Pastries   \n",
       "4  mWMc6_wTdE0EUBKIGXDVfA  Perkiomen Valley Brewery   \n",
       "\n",
       "                           address           city state postal_code  \\\n",
       "0           1616 Chapala St, Ste 2  Santa Barbara    CA       93101   \n",
       "1  87 Grasso Plaza Shopping Center         Affton    MO       63123   \n",
       "2             5255 E Broadway Blvd         Tucson    AZ       85711   \n",
       "3                      935 Race St   Philadelphia    PA       19107   \n",
       "4                    101 Walnut St     Green Lane    PA       18054   \n",
       "\n",
       "    latitude   longitude  stars  review_count  is_open  \\\n",
       "0  34.426679 -119.711197    5.0             7        0   \n",
       "1  38.551126  -90.335695    3.0            15        1   \n",
       "2  32.223236 -110.880452    3.5            22        0   \n",
       "3  39.955505  -75.155564    4.0            80        1   \n",
       "4  40.338183  -75.471659    4.5            13        1   \n",
       "\n",
       "                                          attributes  \\\n",
       "0                      {'ByAppointmentOnly': 'True'}   \n",
       "1             {'BusinessAcceptsCreditCards': 'True'}   \n",
       "2  {'BikeParking': 'True', 'BusinessAcceptsCredit...   \n",
       "3  {'RestaurantsDelivery': 'False', 'OutdoorSeati...   \n",
       "4  {'BusinessAcceptsCreditCards': 'True', 'Wheelc...   \n",
       "\n",
       "                                          categories  \\\n",
       "0  Doctors, Traditional Chinese Medicine, Naturop...   \n",
       "1  Shipping Centers, Local Services, Notaries, Ma...   \n",
       "2  Department Stores, Shopping, Fashion, Home & G...   \n",
       "3  Restaurants, Food, Bubble Tea, Coffee & Tea, B...   \n",
       "4                          Brewpubs, Breweries, Food   \n",
       "\n",
       "                                               hours  \n",
       "0                                               None  \n",
       "1  {'Monday': '0:0-0:0', 'Tuesday': '8:0-18:30', ...  \n",
       "2  {'Monday': '8:0-22:0', 'Tuesday': '8:0-22:0', ...  \n",
       "3  {'Monday': '7:0-20:0', 'Tuesday': '7:0-20:0', ...  \n",
       "4  {'Wednesday': '14:0-22:0', 'Thursday': '16:0-2...  "
      ]
     },
     "execution_count": 16,
     "metadata": {},
     "output_type": "execute_result"
    }
   ],
   "source": [
    "business.head()"
   ]
  }
 ],
 "metadata": {
  "environment": {
   "kernel": "conda-base-py",
   "name": "workbench-notebooks.m127",
   "type": "gcloud",
   "uri": "us-docker.pkg.dev/deeplearning-platform-release/gcr.io/workbench-notebooks:m127"
  },
  "kernelspec": {
   "display_name": "Python 3 (ipykernel) (Local)",
   "language": "python",
   "name": "conda-base-py"
  },
  "language_info": {
   "codemirror_mode": {
    "name": "ipython",
    "version": 3
   },
   "file_extension": ".py",
   "mimetype": "text/x-python",
   "name": "python",
   "nbconvert_exporter": "python",
   "pygments_lexer": "ipython3",
   "version": "3.10.16"
  }
 },
 "nbformat": 4,
 "nbformat_minor": 5
}
